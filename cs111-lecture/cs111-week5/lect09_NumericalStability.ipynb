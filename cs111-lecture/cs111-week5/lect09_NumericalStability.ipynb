{
 "cells": [
  {
   "cell_type": "markdown",
   "metadata": {},
   "source": [
    "# Examples of stability in matrices\n",
    "\n",
    "### We'll start off by importing numpy and the linear algebra class (linalg) from numpy"
   ]
  },
  {
   "cell_type": "code",
   "execution_count": 1,
   "metadata": {},
   "outputs": [],
   "source": [
    "import numpy as np\n",
    "import numpy.linalg as npla"
   ]
  },
  {
   "cell_type": "markdown",
   "metadata": {},
   "source": [
    "***Follows the example done in lecture:***"
   ]
  },
  {
   "cell_type": "code",
   "execution_count": 2,
   "metadata": {},
   "outputs": [
    {
     "name": "stdout",
     "output_type": "stream",
     "text": [
      "x_orig: [-1000.     1.]\n"
     ]
    }
   ],
   "source": [
    "A = np.array([ [1, 1000], [0, 1] ])\n",
    "b_orig = np.array([0, 1])\n",
    "\n",
    "x_orig = npla.solve(A, b_orig)\n",
    "# I expect it to be [-1000, 1]\n",
    "\n",
    "print(\"x_orig:\", x_orig)"
   ]
  },
  {
   "cell_type": "code",
   "execution_count": 3,
   "metadata": {},
   "outputs": [
    {
     "name": "stdout",
     "output_type": "stream",
     "text": [
      "x_dev: [-999.999    1.001]\n"
     ]
    }
   ],
   "source": [
    "###########################\n",
    "# Let's deviate the x-vector by 0.1%\n",
    "\n",
    "x_dev = np.array([-999.999, 1.001])\n",
    "\n",
    "print(\"x_dev:\", x_dev)"
   ]
  },
  {
   "cell_type": "code",
   "execution_count": 5,
   "metadata": {},
   "outputs": [
    {
     "name": "stdout",
     "output_type": "stream",
     "text": [
      "\n",
      "A @ x_orig: [0 1]\n",
      "A @ x_dev: [1.001 1.001]\n",
      "\n",
      "relative residual norm: 1.0010004995002375\n"
     ]
    }
   ],
   "source": [
    "###########################\n",
    "# Now, let's compare the Ax results based on\n",
    "# Original x-vector vs. Deviated x-vector:\n",
    "\n",
    "print(\"\\nA @ x_orig:\", b_orig)          # b_orig\n",
    "print(\"A @ x_dev:\", A@x_dev)       # b_dev\n",
    "\n",
    "print(\"\\nrelative residual norm:\", npla.norm(b_orig - A@x_dev)/npla.norm(b_orig))"
   ]
  },
  {
   "cell_type": "markdown",
   "metadata": {},
   "source": [
    "***Interestingly, that \"little\" deviation caused a significant residual!!!***\n",
    "\n",
    "*Is there a way to tell if a matrix is \"susceptable\" to big outcomes from small changes?*\n",
    "\n",
    "The \"Condition Number\" is that indicator (`npla.cond()`)!\n",
    "\n",
    "Ideally, you want that to be small (as close to 1 as possible)."
   ]
  },
  {
   "cell_type": "code",
   "execution_count": 6,
   "metadata": {},
   "outputs": [
    {
     "name": "stdout",
     "output_type": "stream",
     "text": [
      "\n",
      "condition number of A:\n",
      " 1000002.0\n"
     ]
    }
   ],
   "source": [
    "###########################\n",
    "# Condition Number tells the story of stability of Matrix A:\n",
    "\n",
    "print(\"\\ncondition number of A:\\n\",npla.cond(A, 'fro'))"
   ]
  },
  {
   "cell_type": "markdown",
   "metadata": {},
   "source": [
    "***Let's try this again with a different matrix:***\n",
    "\n",
    "*Note how a little difference in the inputs can make a bigger difference at the outcome!*"
   ]
  },
  {
   "cell_type": "code",
   "execution_count": 7,
   "metadata": {},
   "outputs": [
    {
     "name": "stdout",
     "output_type": "stream",
     "text": [
      "x_orig: [0. 1.]\n"
     ]
    }
   ],
   "source": [
    "A = np.array([[1,9],[9,1]])\n",
    "b_orig = np.array([9,1])\n",
    "\n",
    "x_orig = npla.solve(A, b_orig)\n",
    "print(\"x_orig:\", x_orig)"
   ]
  },
  {
   "cell_type": "code",
   "execution_count": 8,
   "metadata": {},
   "outputs": [
    {
     "name": "stdout",
     "output_type": "stream",
     "text": [
      "x_dev: [0.001 0.999]\n",
      "\n",
      "A @ x_orig: [9. 1.]\n",
      "A @ x_dev: [8.992 1.008]\n",
      "\n",
      "relative residual norm: 0.001249390095108919\n",
      "\n",
      "condition number of A:\n",
      " 2.05\n"
     ]
    }
   ],
   "source": [
    "###########################\n",
    "# Deviate just a little bit... \n",
    "# Instead of x[0] = 0, make it 0.001\n",
    "# Instead of x[1] = 1, make it 0.999\n",
    "\n",
    "x_dev = np.array([0.001, 0.999])\n",
    "print(\"x_dev:\", x_dev)\n",
    "\n",
    "print(\"\\nA @ x_orig:\", A@x_orig)   # b_orig\n",
    "print(\"A @ x_dev:\", A@x_dev)       # b_dev\n",
    "\n",
    "print(\"\\nrelative residual norm:\", npla.norm(b_orig - A@x_dev)/npla.norm(b_orig))\n",
    "\n",
    "print(\"\\ncondition number of A:\\n\",npla.cond(A, 'fro'))"
   ]
  },
  {
   "cell_type": "markdown",
   "metadata": {},
   "source": [
    "***Note that the residual was much smaller, as was the condition number of matrix A***\n",
    "\n",
    "*Let's do another one, this time a 3x3:*"
   ]
  },
  {
   "cell_type": "code",
   "execution_count": 9,
   "metadata": {
    "scrolled": true
   },
   "outputs": [
    {
     "name": "stdout",
     "output_type": "stream",
     "text": [
      "x_orig: [1. 2. 1.]\n"
     ]
    }
   ],
   "source": [
    "A = np.eye(3)\n",
    "b_orig = np.array([1, 2, 1])\n",
    "\n",
    "x_orig = npla.solve(A, b_orig)\n",
    "print(\"x_orig:\", x_orig)"
   ]
  },
  {
   "cell_type": "code",
   "execution_count": 10,
   "metadata": {},
   "outputs": [
    {
     "name": "stdout",
     "output_type": "stream",
     "text": [
      "x_dev: [1.001 2.002 1.001]\n",
      "\n",
      "A @ x_orig: [1. 2. 1.]\n",
      "A @ x_dev: [1.001 2.002 1.001]\n",
      "\n",
      "relative residual norm: 0.0009999999999998899\n",
      "\n",
      "condition number of A:\n",
      " 2.9999999999999996\n"
     ]
    }
   ],
   "source": [
    "###########################\n",
    "# Again, let's deviate just a little bit... \n",
    "\n",
    "x_dev = np.array([1.001, 2.002, 1.001])\n",
    "print(\"x_dev:\", x_dev)\n",
    "\n",
    "print(\"\\nA @ x_orig:\", A@x_orig)   # b_orig\n",
    "print(\"A @ x_dev:\", A@x_dev)       # b_dev\n",
    "\n",
    "print(\"\\nrelative residual norm:\", npla.norm(b_orig - A@x_dev)/npla.norm(b_orig))\n",
    "\n",
    "print(\"\\ncondition number of A:\\n\",npla.cond(A, 'fro'))"
   ]
  },
  {
   "cell_type": "code",
   "execution_count": null,
   "metadata": {},
   "outputs": [],
   "source": []
  }
 ],
 "metadata": {
  "kernelspec": {
   "display_name": "Python 3",
   "language": "python",
   "name": "python3"
  },
  "language_info": {
   "codemirror_mode": {
    "name": "ipython",
    "version": 3
   },
   "file_extension": ".py",
   "mimetype": "text/x-python",
   "name": "python",
   "nbconvert_exporter": "python",
   "pygments_lexer": "ipython3",
   "version": "3.8.5"
  }
 },
 "nbformat": 4,
 "nbformat_minor": 4
}
