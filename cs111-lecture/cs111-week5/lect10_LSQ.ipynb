{
 "cells": [
  {
   "cell_type": "markdown",
   "metadata": {},
   "source": [
    "# Least Square Method\n",
    "\n",
    "### We'll start off by importing what we need\n",
    "\n",
    "**NOTE:** You can `import cs111` module. See the website for the latest version."
   ]
  },
  {
   "cell_type": "code",
   "execution_count": 2,
   "metadata": {},
   "outputs": [],
   "source": [
    "import numpy as np\n",
    "import numpy.linalg as npla\n",
    "\n",
    "import matplotlib.pyplot as plt\n",
    "from matplotlib import cm\n",
    "from mpl_toolkits.mplot3d import axes3d\n",
    "#%matplotlib tk"
   ]
  },
  {
   "cell_type": "code",
   "execution_count": 2,
   "metadata": {},
   "outputs": [
    {
     "ename": "LinAlgError",
     "evalue": "Last 2 dimensions of the array must be square",
     "output_type": "error",
     "traceback": [
      "\u001b[1;31m---------------------------------------------------------------------------\u001b[0m",
      "\u001b[1;31mLinAlgError\u001b[0m                               Traceback (most recent call last)",
      "Cell \u001b[1;32mIn[2], line 6\u001b[0m\n\u001b[0;32m      3\u001b[0m A \u001b[39m=\u001b[39m np\u001b[39m.\u001b[39marray([[\u001b[39m1\u001b[39m,\u001b[39m0\u001b[39m,\u001b[39m0\u001b[39m], [\u001b[39m0\u001b[39m,\u001b[39m1\u001b[39m,\u001b[39m0\u001b[39m], [\u001b[39m0\u001b[39m,\u001b[39m0\u001b[39m,\u001b[39m1\u001b[39m], [\u001b[39m-\u001b[39m\u001b[39m1\u001b[39m,\u001b[39m1\u001b[39m,\u001b[39m0\u001b[39m], [\u001b[39m-\u001b[39m\u001b[39m1\u001b[39m,\u001b[39m0\u001b[39m,\u001b[39m1\u001b[39m], [\u001b[39m0\u001b[39m,\u001b[39m-\u001b[39m\u001b[39m1\u001b[39m,\u001b[39m1\u001b[39m]])\n\u001b[0;32m      4\u001b[0m b \u001b[39m=\u001b[39m np\u001b[39m.\u001b[39marray([\u001b[39m1237\u001b[39m, \u001b[39m1941\u001b[39m, \u001b[39m2417\u001b[39m, \u001b[39m711\u001b[39m, \u001b[39m1177\u001b[39m, \u001b[39m475\u001b[39m])\n\u001b[1;32m----> 6\u001b[0m x \u001b[39m=\u001b[39m npla\u001b[39m.\u001b[39;49msolve(A, b)\n\u001b[0;32m      7\u001b[0m \u001b[39mprint\u001b[39m(\u001b[39m\"\u001b[39m\u001b[39mx :\u001b[39m\u001b[39m\"\u001b[39m, x)\n",
      "File \u001b[1;32m<__array_function__ internals>:180\u001b[0m, in \u001b[0;36msolve\u001b[1;34m(*args, **kwargs)\u001b[0m\n",
      "File \u001b[1;32mc:\\anaconda\\lib\\site-packages\\numpy\\linalg\\linalg.py:387\u001b[0m, in \u001b[0;36msolve\u001b[1;34m(a, b)\u001b[0m\n\u001b[0;32m    385\u001b[0m a, _ \u001b[39m=\u001b[39m _makearray(a)\n\u001b[0;32m    386\u001b[0m _assert_stacked_2d(a)\n\u001b[1;32m--> 387\u001b[0m _assert_stacked_square(a)\n\u001b[0;32m    388\u001b[0m b, wrap \u001b[39m=\u001b[39m _makearray(b)\n\u001b[0;32m    389\u001b[0m t, result_t \u001b[39m=\u001b[39m _commonType(a, b)\n",
      "File \u001b[1;32mc:\\anaconda\\lib\\site-packages\\numpy\\linalg\\linalg.py:204\u001b[0m, in \u001b[0;36m_assert_stacked_square\u001b[1;34m(*arrays)\u001b[0m\n\u001b[0;32m    202\u001b[0m m, n \u001b[39m=\u001b[39m a\u001b[39m.\u001b[39mshape[\u001b[39m-\u001b[39m\u001b[39m2\u001b[39m:]\n\u001b[0;32m    203\u001b[0m \u001b[39mif\u001b[39;00m m \u001b[39m!=\u001b[39m n:\n\u001b[1;32m--> 204\u001b[0m     \u001b[39mraise\u001b[39;00m LinAlgError(\u001b[39m'\u001b[39m\u001b[39mLast 2 dimensions of the array must be square\u001b[39m\u001b[39m'\u001b[39m)\n",
      "\u001b[1;31mLinAlgError\u001b[0m: Last 2 dimensions of the array must be square"
     ]
    }
   ],
   "source": [
    "# Can we use npla.solve() on LSQ problems?\n",
    "\n",
    "A = np.array([[1,0,0], [0,1,0], [0,0,1], [-1,1,0], [-1,0,1], [0,-1,1]])\n",
    "b = np.array([1237, 1941, 2417, 711, 1177, 475])\n",
    "\n",
    "x = npla.solve(A, b)\n",
    "print(\"x :\", x)\n",
    "\n",
    "# ANSWER IS: NO!!! It can \"break down\" Jupyter Notebook too (so you'd have to close the program and re-open it)"
   ]
  },
  {
   "cell_type": "markdown",
   "metadata": {},
   "source": [
    "# LSQ: Line (1st order) fit"
   ]
  },
  {
   "cell_type": "markdown",
   "metadata": {},
   "source": [
    "### Simple example"
   ]
  },
  {
   "cell_type": "code",
   "execution_count": 3,
   "metadata": {},
   "outputs": [
    {
     "name": "stdout",
     "output_type": "stream",
     "text": [
      "9 9\n",
      "t: [0 1 2 3 4 5 6 7 8]\n",
      "y: [2.9 2.7 4.8 5.3 7.1 7.6 7.7 8.  9.4]\n"
     ]
    }
   ],
   "source": [
    "y = np.array([2.9, 2.7, 4.8, 5.3, 7.1, 7.6, 7.7, 8.0, 9.4])\n",
    "t = np.array(range(9))\n",
    "\n",
    "# Note that the vectors y and t have the same number of elements:\n",
    "print(len(t), len(y))\n",
    "print('t:',t)\n",
    "print('y:',y)"
   ]
  },
  {
   "cell_type": "code",
   "execution_count": 4,
   "metadata": {},
   "outputs": [
    {
     "data": {
      "text/plain": [
       "[<matplotlib.lines.Line2D at 0x7fa180c7d9f0>]"
      ]
     },
     "execution_count": 4,
     "metadata": {},
     "output_type": "execute_result"
    },
    {
     "data": {
      "image/png": "[encoded data removed]",
      "text/plain": [
       "<Figure size 640x480 with 1 Axes>"
      ]
     },
     "metadata": {},
     "output_type": "display_data"
    }
   ],
   "source": [
    "%matplotlib inline\n",
    "plt.figure()\n",
    "plt.plot(t, y, '.')"
   ]
  },
  {
   "cell_type": "markdown",
   "metadata": {},
   "source": [
    "### Another example"
   ]
  },
  {
   "cell_type": "code",
   "execution_count": 5,
   "metadata": {},
   "outputs": [
    {
     "name": "stdout",
     "output_type": "stream",
     "text": [
      "14 14\n",
      "t: [ 0  1  2  3  4  5  6  7  8  9 10 11 12 13]\n",
      "y: [ 2.9  2.7  4.8  5.3  7.1  7.6  7.7  7.6  9.4  9.   9.6 10.  10.2  9.7]\n"
     ]
    }
   ],
   "source": [
    "y = np.array([2.9, 2.7, 4.8, 5.3, 7.1, 7.6, 7.7, 7.6, 9.4, 9.0, 9.6,10.0, 10.2, 9.7])\n",
    "t = np.array(range(14))\n",
    "\n",
    "# Note that the vectors y and t have the same number of elements:\n",
    "print(len(t), len(y))\n",
    "print('t:',t)\n",
    "print('y:',y)"
   ]
  },
  {
   "cell_type": "code",
   "execution_count": 6,
   "metadata": {},
   "outputs": [
    {
     "data": {
      "text/plain": [
       "[<matplotlib.lines.Line2D at 0x7fa16062f4c0>]"
      ]
     },
     "execution_count": 6,
     "metadata": {},
     "output_type": "execute_result"
    },
    {
     "data": {
      "image/png": "[encoded data removed]",
      "text/plain": [
       "<Figure size 640x480 with 1 Axes>"
      ]
     },
     "metadata": {},
     "output_type": "display_data"
    }
   ],
   "source": [
    "%matplotlib inline\n",
    "plt.figure()\n",
    "plt.plot(t, y, '*')"
   ]
  },
  {
   "cell_type": "markdown",
   "metadata": {},
   "source": [
    "## We want to create matrix A to reflect this 1st-order set of equations\n",
    "### i.e. set of $y_{n}$ = $x_{0}$ + $t_{1}$.$x_{1}$"
   ]
  },
  {
   "cell_type": "code",
   "execution_count": 7,
   "metadata": {},
   "outputs": [
    {
     "name": "stdout",
     "output_type": "stream",
     "text": [
      "[[ 1.  0.]\n",
      " [ 1.  1.]\n",
      " [ 1.  2.]\n",
      " [ 1.  3.]\n",
      " [ 1.  4.]\n",
      " [ 1.  5.]\n",
      " [ 1.  6.]\n",
      " [ 1.  7.]\n",
      " [ 1.  8.]\n",
      " [ 1.  9.]\n",
      " [ 1. 10.]\n",
      " [ 1. 11.]\n",
      " [ 1. 12.]\n",
      " [ 1. 13.]]\n"
     ]
    }
   ],
   "source": [
    "m = len(y)\n",
    "# Create matrix A that is all 1s, with dims m rows and 2 cols\n",
    "A = np.ones((m,2))\n",
    "#print(A)\n",
    "\n",
    "A[:, 1] = t\n",
    "print(A)"
   ]
  },
  {
   "cell_type": "markdown",
   "metadata": {},
   "source": [
    "## We have A and we have y, so let's solve for x in Ax = y\n",
    "**Since this is an OVERDETERMINED system, we cannot solve using the typical npla.solve() solver**\n",
    "\n",
    "***Instead, we have to use the npla.lstsq() method***"
   ]
  },
  {
   "cell_type": "code",
   "execution_count": 8,
   "metadata": {},
   "outputs": [
    {
     "name": "stdout",
     "output_type": "stream",
     "text": [
      "A: \n",
      " [[ 1.  0.]\n",
      " [ 1.  1.]\n",
      " [ 1.  2.]\n",
      " [ 1.  3.]\n",
      " [ 1.  4.]\n",
      " [ 1.  5.]\n",
      " [ 1.  6.]\n",
      " [ 1.  7.]\n",
      " [ 1.  8.]\n",
      " [ 1.  9.]\n",
      " [ 1. 10.]\n",
      " [ 1. 11.]\n",
      " [ 1. 12.]\n",
      " [ 1. 13.]]\n",
      "y: \n",
      " [ 2.9  2.7  4.8  5.3  7.1  7.6  7.7  7.6  9.4  9.   9.6 10.  10.2  9.7]\n",
      "[3.64857143 0.57714286]\n",
      "x0:  3.6485714285714286 \n",
      "x1:  0.5771428571428571\n"
     ]
    }
   ],
   "source": [
    "# LSTSQ [0] returns the x-vector\n",
    "print(\"A: \\n\", A)\n",
    "print(\"y: \\n\", y)\n",
    "x = npla.lstsq(A, y, rcond = None)[0]\n",
    "print(x)\n",
    "\n",
    "# Note: x[0] and x[1] are the coefficients for the straight line\n",
    "# i.e. y(t) = x[0] + x[1].t\n",
    "\n",
    "print(\"x0: \",x[0],'\\nx1: ',x[1])"
   ]
  },
  {
   "cell_type": "code",
   "execution_count": 9,
   "metadata": {},
   "outputs": [
    {
     "name": "stdout",
     "output_type": "stream",
     "text": [
      "[3.64857143 0.57714286]\n"
     ]
    }
   ],
   "source": [
    "# Can we duplicate using QR factorization?\n",
    "\n",
    "Q,R = npla.qr(A)\n",
    "x_qr = npla.inv(R)@Q.T@y\n",
    "print(x_qr)"
   ]
  },
  {
   "cell_type": "markdown",
   "metadata": {},
   "source": [
    "**How far away is EACH data point (i.e. in y) from the line determined by LSQ method?**\n",
    "\n",
    "***Best determined with a residual calculation:***\n",
    "\n",
    "The **residual vector** will show the difference of EACH point from the \"ideal\" line and\n",
    "the **relative residual value** acts as an \"average\" of sorts of all these point differences.\n",
    "\n",
    "BOTH the residual vector AND the relative residual value are useful metrics."
   ]
  },
  {
   "cell_type": "code",
   "execution_count": 10,
   "metadata": {},
   "outputs": [
    {
     "name": "stdout",
     "output_type": "stream",
     "text": [
      "The residual vector r:\n",
      " [-0.74857143 -1.52571429 -0.00285714 -0.08        1.14285714  1.06571429\n",
      "  0.58857143 -0.08857143  1.13428571  0.15714286  0.18        0.00285714\n",
      " -0.37428571 -1.45142857] \n",
      "\n",
      "The relative residual norm:\n",
      " 0.10438964125924657\n"
     ]
    }
   ],
   "source": [
    "# Ax = b is the least-square approximation\n",
    "# y - Ax is the residue\n",
    "\n",
    "r = y - A @ x\n",
    "print('The residual vector r:\\n', r, '\\n')\n",
    "print('The relative residual norm:\\n', npla.norm(r)/npla.norm(y))"
   ]
  },
  {
   "cell_type": "markdown",
   "metadata": {},
   "source": [
    "## Notes on the `numpy` function `linspace()`\n",
    "\n",
    "### If we want to plot the \"ideal\" line that was determined by the LSQ method, then we need to create an x-axis of evenly spaced numbers. The function `linspace()` can do this:"
   ]
  },
  {
   "cell_type": "code",
   "execution_count": 11,
   "metadata": {},
   "outputs": [
    {
     "data": {
      "text/plain": [
       "array([ 0.        ,  1.44444444,  2.88888889,  4.33333333,  5.77777778,\n",
       "        7.22222222,  8.66666667, 10.11111111, 11.55555556, 13.        ])"
      ]
     },
     "execution_count": 11,
     "metadata": {},
     "output_type": "execute_result"
    }
   ],
   "source": [
    "# np.linspace(a,b,c) - Returns evenly spaced numbers over a specified interval.\n",
    "# This example returns 10 points evenly space between 0 and 13.\n",
    "\n",
    "np.linspace(0, 13, num = 10)"
   ]
  },
  {
   "cell_type": "code",
   "execution_count": 12,
   "metadata": {},
   "outputs": [
    {
     "data": {
      "text/plain": [
       "array([ 0.        ,  1.44444444,  2.88888889,  4.33333333,  5.77777778,\n",
       "        7.22222222,  8.66666667, 10.11111111, 11.55555556, 13.        ])"
      ]
     },
     "execution_count": 12,
     "metadata": {},
     "output_type": "execute_result"
    }
   ],
   "source": [
    "# This example returns N points evenly space between START and END.\n",
    "\n",
    "START = 0\n",
    "END = 13\n",
    "N = 10\n",
    "\n",
    "np.linspace(START, END, num = N)"
   ]
  },
  {
   "cell_type": "code",
   "execution_count": 13,
   "metadata": {},
   "outputs": [
    {
     "data": {
      "text/plain": [
       "<matplotlib.legend.Legend at 0x7fa1707a7fa0>"
      ]
     },
     "execution_count": 13,
     "metadata": {},
     "output_type": "execute_result"
    },
    {
     "data": {
      "image/png": "[encoded data removed]",
      "text/plain": [
       "<Figure size 640x480 with 1 Axes>"
      ]
     },
     "metadata": {},
     "output_type": "display_data"
    }
   ],
   "source": [
    "%matplotlib inline\n",
    "plt.figure()\n",
    "plt.plot(t, y, '.')\n",
    "\n",
    "polyt = np.linspace(0, 13, num = 100)\n",
    "polyy = x[0] + x[1]*polyt \n",
    "\n",
    "plt.plot(polyt, polyy)\n",
    "plt.xlabel('time')\n",
    "plt.ylabel('height')\n",
    "plt.legend(('observations', 'linear fit'))"
   ]
  },
  {
   "cell_type": "markdown",
   "metadata": {},
   "source": [
    "# LSQ: Parabolic (2nd order) fit"
   ]
  },
  {
   "cell_type": "code",
   "execution_count": 14,
   "metadata": {},
   "outputs": [
    {
     "name": "stdout",
     "output_type": "stream",
     "text": [
      "t: [ 0.   0.5  1.   1.5  2.   2.5  3.   3.5  4.   4.5  5.   5.5  6.   6.5\n",
      "  7.   7.5  8.   8.5  9.   9.5 10. ]\n",
      "y: [ 2.9  2.7  4.8  5.3  7.1  7.6  7.7  7.6  9.4  9.   9.6 10.  10.2  9.7\n",
      "  8.3  8.4  9.   8.3  6.6  6.7  4.1]\n"
     ]
    },
    {
     "data": {
      "text/plain": [
       "[<matplotlib.lines.Line2D at 0x7fa180cadff0>]"
      ]
     },
     "execution_count": 14,
     "metadata": {},
     "output_type": "execute_result"
    },
    {
     "data": {
      "image/png": "[encoded data removed]",
      "text/plain": [
       "<Figure size 640x480 with 1 Axes>"
      ]
     },
     "metadata": {},
     "output_type": "display_data"
    }
   ],
   "source": [
    "t = np.array(range(21))/2\n",
    "y = np.array([2.9, 2.7, 4.8, 5.3, 7.1, 7.6, 7.7, 7.6, 9.4, 9.0, 9.6, \n",
    "              10.0, 10.2, 9.7, 8.3, 8.4, 9.0, 8.3, 6.6, 6.7, 4.1])\n",
    "print('t:',t)\n",
    "print('y:',y)\n",
    "\n",
    "%matplotlib inline\n",
    "plt.figure()\n",
    "plt.plot(t,y,'.')"
   ]
  },
  {
   "cell_type": "markdown",
   "metadata": {},
   "source": [
    "## We want to create matrix A to reflect this 2nd-order set of equations\n",
    "### i.e. set of $y_{n}$ = $x_{0}$ + $t_{1}$.$x_{1}$ + $t_{2}^{2}$.$x_{2}$\n",
    "\n",
    "*Step 1: Set up matrix A:*"
   ]
  },
  {
   "cell_type": "code",
   "execution_count": 15,
   "metadata": {},
   "outputs": [
    {
     "name": "stdout",
     "output_type": "stream",
     "text": [
      "[[  1.     0.     0.  ]\n",
      " [  1.     0.5    0.25]\n",
      " [  1.     1.     1.  ]\n",
      " [  1.     1.5    2.25]\n",
      " [  1.     2.     4.  ]\n",
      " [  1.     2.5    6.25]\n",
      " [  1.     3.     9.  ]\n",
      " [  1.     3.5   12.25]\n",
      " [  1.     4.    16.  ]\n",
      " [  1.     4.5   20.25]\n",
      " [  1.     5.    25.  ]\n",
      " [  1.     5.5   30.25]\n",
      " [  1.     6.    36.  ]\n",
      " [  1.     6.5   42.25]\n",
      " [  1.     7.    49.  ]\n",
      " [  1.     7.5   56.25]\n",
      " [  1.     8.    64.  ]\n",
      " [  1.     8.5   72.25]\n",
      " [  1.     9.    81.  ]\n",
      " [  1.     9.5   90.25]\n",
      " [  1.    10.   100.  ]]\n"
     ]
    }
   ],
   "source": [
    "m = len(y)\n",
    "A = np.ones((m,3))\n",
    "\n",
    "# What-if you wanted to fit this to a cubic curve???\n",
    "#A = np.ones((m,4))\n",
    "\n",
    "A[:,1] = t\n",
    "A[:,2] = t**2\n",
    "\n",
    "print(A)"
   ]
  },
  {
   "cell_type": "markdown",
   "metadata": {},
   "source": [
    "*Step 2: find x by using the npla.lstsq() function.*\n",
    "\n",
    "*Step 3: calculate the relative residual norm.*"
   ]
  },
  {
   "cell_type": "code",
   "execution_count": 22,
   "metadata": {},
   "outputs": [
    {
     "name": "stdout",
     "output_type": "stream",
     "text": [
      "[ 2.17571993  2.67041339 -0.23844394]\n",
      "\n",
      "The residual vector r:\n",
      " [ 0.72428007 -0.75131564  0.19231062 -0.34484115  0.53722904  0.2385212\n",
      " -0.34096466 -1.00122857  0.3577295  -0.36409046  0.03331154  0.34993551\n",
      "  0.58578145  0.24084936 -0.88486077 -0.39134893  0.72138489  0.65334066\n",
      " -0.29548159  0.67491813 -0.93546019] \n",
      "\n",
      "6.795716009391058\n",
      "[6.79571601]\n",
      "The relative residual norm:\n",
      " 0.07384248666934153\n"
     ]
    }
   ],
   "source": [
    "x = npla.lstsq(A, y, rcond = None)[0]\n",
    "print(x)\n",
    "\n",
    "r = y - A @ x\n",
    "print('\\nThe residual vector r:\\n', r, '\\n')\n",
    "print(npla.norm(r) ** 2)\n",
    "print(npla.lstsq(A, y, rcond = None)[1])\n",
    "print('The relative residual norm:\\n', npla.norm(r)/npla.norm(y))"
   ]
  },
  {
   "cell_type": "markdown",
   "metadata": {},
   "source": [
    "*Step 4: Plot the data points and overlay a plot of the model:*"
   ]
  },
  {
   "cell_type": "code",
   "execution_count": 17,
   "metadata": {},
   "outputs": [
    {
     "data": {
      "text/plain": [
       "<matplotlib.legend.Legend at 0x7fa180d11e10>"
      ]
     },
     "execution_count": 17,
     "metadata": {},
     "output_type": "execute_result"
    },
    {
     "data": {
      "image/png": "[encoded data removed]",
      "text/plain": [
       "<Figure size 640x480 with 1 Axes>"
      ]
     },
     "metadata": {},
     "output_type": "display_data"
    }
   ],
   "source": [
    "%matplotlib inline\n",
    "plt.figure()\n",
    "plt.plot(t,y,'.')\n",
    "\n",
    "polyt = np.linspace(0,10,num=100)\n",
    "polyy = x[0] + x[1]*polyt + x[2]*polyt**2\n",
    "\n",
    "# What-if you wanted to fit this to a cubic curve???\n",
    "#polyy = x[0] + x[1]*polyt + x[2]*polyt**2 + x[3]*polyt**3\n",
    "\n",
    "plt.plot(polyt,polyy)\n",
    "plt.xlabel('time')\n",
    "plt.ylabel('height')\n",
    "plt.legend(('observations', 'parabola fit'))"
   ]
  }
 ],
 "metadata": {
  "interpreter": {
   "hash": "138833874f2dc7c1a2fe589d9c55b0aff635bc609cbe7c4d1d123c8b54c76836"
  },
  "kernelspec": {
   "display_name": "Python 3.10.9 ('base')",
   "language": "python",
   "name": "python3"
  },
  "language_info": {
   "codemirror_mode": {
    "name": "ipython",
    "version": 3
   },
   "file_extension": ".py",
   "mimetype": "text/x-python",
   "name": "python",
   "nbconvert_exporter": "python",
   "pygments_lexer": "ipython3",
   "version": "3.10.9"
  }
 },
 "nbformat": 4,
 "nbformat_minor": 4
}
