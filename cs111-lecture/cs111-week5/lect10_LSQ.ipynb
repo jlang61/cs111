{
 "cells": [
  {
   "cell_type": "markdown",
   "metadata": {},
   "source": [
    "# Least Square Method\n",
    "\n",
    "### We'll start off by importing what we need\n",
    "\n",
    "**NOTE:** You can `import cs111` module. See the website for the latest version."
   ]
  },
  {
   "cell_type": "code",
   "execution_count": null,
   "metadata": {},
   "outputs": [],
   "source": [
    "import numpy as np\n",
    "import numpy.linalg as npla\n",
    "\n",
    "import matplotlib.pyplot as plt\n",
    "from matplotlib import cm\n",
    "from mpl_toolkits.mplot3d import axes3d\n",
    "#%matplotlib tk"
   ]
  },
  {
   "cell_type": "code",
   "execution_count": null,
   "metadata": {},
   "outputs": [],
   "source": [
    "# Can we use npla.solve() on LSQ problems?\n",
    "\n",
    "A = np.array([[1,0,0], [0,1,0], [0,0,1], [-1,1,0], [-1,0,1], [0,-1,1]])\n",
    "b = np.array([1237, 1941, 2417, 711, 1177, 475])\n",
    "\n",
    "x = npla.solve(A, b)\n",
    "print(\"x :\", x)\n",
    "\n",
    "# ANSWER IS: NO!!! It can \"break down\" Jupyter Notebook too (so you'd have to close the program and re-open it)"
   ]
  },
  {
   "cell_type": "markdown",
   "metadata": {},
   "source": [
    "# LSQ: Line (1st order) fit"
   ]
  },
  {
   "cell_type": "markdown",
   "metadata": {},
   "source": [
    "### Simple example"
   ]
  },
  {
   "cell_type": "code",
   "execution_count": null,
   "metadata": {},
   "outputs": [],
   "source": [
    "y = np.array([2.9, 2.7, 4.8, 5.3, 7.1, 7.6, 7.7, 8.0, 9.4])\n",
    "t = np.array(range(9))\n",
    "\n",
    "# Note that the vectors y and t have the same number of elements:\n",
    "print(len(t), len(y))\n",
    "print('t:',t)\n",
    "print('y:',y)"
   ]
  },
  {
   "cell_type": "code",
   "execution_count": null,
   "metadata": {},
   "outputs": [],
   "source": [
    "%matplotlib inline\n",
    "plt.figure()\n",
    "plt.plot(t, y, '.')"
   ]
  },
  {
   "cell_type": "markdown",
   "metadata": {},
   "source": [
    "### Another example"
   ]
  },
  {
   "cell_type": "code",
   "execution_count": null,
   "metadata": {},
   "outputs": [],
   "source": [
    "y = np.array([2.9, 2.7, 4.8, 5.3, 7.1, 7.6, 7.7, 7.6, 9.4, 9.0, 9.6,10.0, 10.2, 9.7])\n",
    "t = np.array(range(14))\n",
    "\n",
    "# Note that the vectors y and t have the same number of elements:\n",
    "print(len(t), len(y))\n",
    "print('t:',t)\n",
    "print('y:',y)"
   ]
  },
  {
   "cell_type": "code",
   "execution_count": null,
   "metadata": {},
   "outputs": [],
   "source": [
    "%matplotlib inline\n",
    "plt.figure()\n",
    "plt.plot(t, y, '*')"
   ]
  },
  {
   "cell_type": "markdown",
   "metadata": {},
   "source": [
    "## We want to create matrix A to reflect this 1st-order set of equations\n",
    "### i.e. set of $y_{n}$ = $x_{0}$ + $t_{1}$.$x_{1}$"
   ]
  },
  {
   "cell_type": "code",
   "execution_count": null,
   "metadata": {},
   "outputs": [],
   "source": [
    "m = len(y)\n",
    "# Create matrix A that is all 1s, with dims m rows and 2 cols\n",
    "A = np.ones((m,2))\n",
    "#print(A)\n",
    "\n",
    "A[:, 1] = t\n",
    "print(A)"
   ]
  },
  {
   "cell_type": "markdown",
   "metadata": {},
   "source": [
    "## We have A and we have y, so let's solve for x in Ax = y\n",
    "**Since this is an OVERDETERMINED system, we cannot solve using the typical npla.solve() solver**\n",
    "\n",
    "***Instead, we have to use the npla.lstsq() method***"
   ]
  },
  {
   "cell_type": "code",
   "execution_count": null,
   "metadata": {},
   "outputs": [],
   "source": [
    "# LSTSQ [0] returns the x-vector\n",
    "\n",
    "x = npla.lstsq(A, y, rcond = None)[0]\n",
    "print(x)\n",
    "\n",
    "# Note: x[0] and x[1] are the coefficients for the straight line\n",
    "# i.e. y(t) = x[0] + x[1].t\n",
    "\n",
    "print(\"x0: \",x[0],'\\nx1: ',x[1])"
   ]
  },
  {
   "cell_type": "code",
   "execution_count": null,
   "metadata": {},
   "outputs": [],
   "source": [
    "# Can we duplicate using QR factorization?\n",
    "\n",
    "Q,R = npla.qr(A)\n",
    "x_qr = npla.inv(R)@Q.T@y\n",
    "print(x_qr)"
   ]
  },
  {
   "cell_type": "markdown",
   "metadata": {},
   "source": [
    "**How far away is EACH data point (i.e. in y) from the line determined by LSQ method?**\n",
    "\n",
    "***Best determined with a residual calculation:***\n",
    "\n",
    "The **residual vector** will show the difference of EACH point from the \"ideal\" line and\n",
    "the **relative residual value** acts as an \"average\" of sorts of all these point differences.\n",
    "\n",
    "BOTH the residual vector AND the relative residual value are useful metrics."
   ]
  },
  {
   "cell_type": "code",
   "execution_count": null,
   "metadata": {},
   "outputs": [],
   "source": [
    "# Ax = b is the least-square approximation\n",
    "# y - Ax is the residue\n",
    "\n",
    "r = y - A @ x\n",
    "print('The residual vector r:\\n', r, '\\n')\n",
    "print('The relative residual norm:\\n', npla.norm(r)/npla.norm(y))"
   ]
  },
  {
   "cell_type": "markdown",
   "metadata": {},
   "source": [
    "## Notes on the `numpy` function `linspace()`\n",
    "\n",
    "### If we want to plot the \"ideal\" line that was determined by the LSQ method, then we need to create an x-axis of evenly spaced numbers. The function `linspace()` can do this:"
   ]
  },
  {
   "cell_type": "code",
   "execution_count": null,
   "metadata": {},
   "outputs": [],
   "source": [
    "# np.linspace(a,b,c) - Returns evenly spaced numbers over a specified interval.\n",
    "# This example returns 10 points evenly space between 0 and 13.\n",
    "\n",
    "np.linspace(0, 13, num = 10)"
   ]
  },
  {
   "cell_type": "code",
   "execution_count": null,
   "metadata": {},
   "outputs": [],
   "source": [
    "# This example returns N points evenly space between START and END.\n",
    "\n",
    "START = 0\n",
    "END = 13\n",
    "N = 10\n",
    "\n",
    "np.linspace(START, END, num = N)"
   ]
  },
  {
   "cell_type": "code",
   "execution_count": null,
   "metadata": {},
   "outputs": [],
   "source": [
    "%matplotlib inline\n",
    "plt.figure()\n",
    "plt.plot(t, y, '.')\n",
    "\n",
    "polyt = np.linspace(0, 13, num = 100)\n",
    "polyy = x[0] + x[1]*polyt \n",
    "\n",
    "plt.plot(polyt, polyy)\n",
    "plt.xlabel('time')\n",
    "plt.ylabel('height')\n",
    "plt.legend(('observations', 'linear fit'))"
   ]
  },
  {
   "cell_type": "markdown",
   "metadata": {},
   "source": [
    "# LSQ: Parabolic (2nd order) fit"
   ]
  },
  {
   "cell_type": "code",
   "execution_count": null,
   "metadata": {},
   "outputs": [],
   "source": [
    "t = np.array(range(21))/2\n",
    "y = np.array([2.9, 2.7, 4.8, 5.3, 7.1, 7.6, 7.7, 7.6, 9.4, 9.0, 9.6, \n",
    "              10.0, 10.2, 9.7, 8.3, 8.4, 9.0, 8.3, 6.6, 6.7, 4.1])\n",
    "print('t:',t)\n",
    "print('y:',y)\n",
    "\n",
    "%matplotlib inline\n",
    "plt.figure()\n",
    "plt.plot(t,y,'.')"
   ]
  },
  {
   "cell_type": "markdown",
   "metadata": {},
   "source": [
    "## We want to create matrix A to reflect this 2nd-order set of equations\n",
    "### i.e. set of $y_{n}$ = $x_{0}$ + $t_{1}$.$x_{1}$ + $t_{2}^{2}$.$x_{2}$\n",
    "\n",
    "*Step 1: Set up matrix A:*"
   ]
  },
  {
   "cell_type": "code",
   "execution_count": null,
   "metadata": {},
   "outputs": [],
   "source": [
    "m = len(y)\n",
    "A = np.ones((m,3))\n",
    "\n",
    "# What-if you wanted to fit this to a cubic curve???\n",
    "#A = np.ones((m,4))\n",
    "\n",
    "A[:,1] = t\n",
    "A[:,2] = t**2\n",
    "\n",
    "print(A)"
   ]
  },
  {
   "cell_type": "markdown",
   "metadata": {},
   "source": [
    "*Step 2: find x by using the npla.lstsq() function.*\n",
    "\n",
    "*Step 3: calculate the relative residual norm.*"
   ]
  },
  {
   "cell_type": "code",
   "execution_count": null,
   "metadata": {},
   "outputs": [],
   "source": [
    "x = npla.lstsq(A, y, rcond = None)[0]\n",
    "print(x)\n",
    "\n",
    "r = y - A @ x\n",
    "print('\\nThe residual vector r:\\n', r, '\\n')\n",
    "print('The relative residual norm:\\n', npla.norm(r)/npla.norm(y))"
   ]
  },
  {
   "cell_type": "markdown",
   "metadata": {},
   "source": [
    "*Step 4: Plot the data points and overlay a plot of the model:*"
   ]
  },
  {
   "cell_type": "code",
   "execution_count": null,
   "metadata": {},
   "outputs": [],
   "source": [
    "%matplotlib inline\n",
    "plt.figure()\n",
    "plt.plot(t,y,'.')\n",
    "\n",
    "polyt = np.linspace(0,10,num=100)\n",
    "polyy = x[0] + x[1]*polyt + x[2]*polyt**2\n",
    "\n",
    "# What-if you wanted to fit this to a cubic curve???\n",
    "#polyy = x[0] + x[1]*polyt + x[2]*polyt**2 + x[3]*polyt**3\n",
    "\n",
    "plt.plot(polyt,polyy)\n",
    "plt.xlabel('time')\n",
    "plt.ylabel('height')\n",
    "plt.legend(('observations', 'parabola fit'))"
   ]
  }
 ],
 "metadata": {
  "kernelspec": {
   "display_name": "Python 3",
   "language": "python",
   "name": "python3"
  },
  "language_info": {
   "codemirror_mode": {
    "name": "ipython",
    "version": 3
   },
   "file_extension": ".py",
   "mimetype": "text/x-python",
   "name": "python",
   "nbconvert_exporter": "python",
   "pygments_lexer": "ipython3",
   "version": "3.8.5"
  }
 },
 "nbformat": 4,
 "nbformat_minor": 4
}
