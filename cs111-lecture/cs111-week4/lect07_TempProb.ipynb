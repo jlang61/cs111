{
 "cells": [
  {
   "cell_type": "markdown",
   "metadata": {},
   "source": [
    "# Demonstration of the Temperature Problem\n",
    "\n",
    "### We'll start off by importing what we need"
   ]
  },
  {
   "cell_type": "code",
   "execution_count": 1,
   "metadata": {},
   "outputs": [],
   "source": [
    "# The usual suspects...\n",
    "import numpy as np\n",
    "import numpy.linalg as npla\n",
    "\n",
    "# We'll need to import these to deal with SPARSE matrices\n",
    "import scipy\n",
    "import scipy.sparse.linalg as spla\n",
    "from scipy import sparse\n",
    "from scipy import linalg\n",
    "\n",
    "# These are so we can make pretty 2D & 3D plots...\n",
    "import matplotlib.pyplot as plt\n",
    "from matplotlib import cm\n",
    "from mpl_toolkits.mplot3d import axes3d\n",
    "%matplotlib tk"
   ]
  },
  {
   "cell_type": "markdown",
   "metadata": {},
   "source": [
    "## We'll create 3 functions for our use:\n",
    "### 1. make_A(k)    --- creates the nxn matrix we need from a kxk sized room model\n",
    "### 2. make_b(k)    --- creates the right-hand side vector in the Ax = b setup\n",
    "### 3. radiator(k)    --- creates a radiator wall at a set temperature (default is 100)"
   ]
  },
  {
   "cell_type": "code",
   "execution_count": 2,
   "metadata": {},
   "outputs": [],
   "source": [
    "def make_A(k):\n",
    "    \"\"\"Create the matrix for the temperature problem on a k-by-k grid (2-dimensional).\n",
    "    Parameters: \n",
    "      k: number of grid points in each dimension.\n",
    "    Outputs:\n",
    "      A: the sparse k**2-by-k**2 matrix representing the finite difference approximation to Poisson's equation.\n",
    "    \"\"\"\n",
    "    # First make a list with one triple (row, column, value) for each nonzero element of A\n",
    "    triples = []\n",
    "    for i in range(k):\n",
    "        for j in range(k):\n",
    "            # what row of the matrix is grid point (i,j)?\n",
    "            row = j + i*k\n",
    "            # the diagonal element in this row\n",
    "            triples.append((row, row, 4.0))\n",
    "            # connect to left grid neighbor\n",
    "            if j > 0:\n",
    "                triples.append((row, row - 1, -1.0))\n",
    "            # ... right neighbor\n",
    "            if j < k - 1:\n",
    "                triples.append((row, row + 1, -1.0))\n",
    "            # ... neighbor above\n",
    "            if i > 0:\n",
    "                triples.append((row, row - k, -1.0))\n",
    "            # ... neighbor below\n",
    "            if i < k - 1:\n",
    "                triples.append((row, row + k, -1.0))\n",
    "    \n",
    "    # Finally convert the list of triples to a scipy sparse matrix\n",
    "    ndim = k*k\n",
    "    rownum = [t[0] for t in triples]\n",
    "    colnum = [t[1] for t in triples]\n",
    "    values = [t[2] for t in triples]\n",
    "    A = sparse.csr_matrix((values, (rownum, colnum)), shape = (ndim, ndim))\n",
    "    \n",
    "    return A "
   ]
  },
  {
   "cell_type": "code",
   "execution_count": 23,
   "metadata": {},
   "outputs": [
    {
     "name": "stdout",
     "output_type": "stream",
     "text": [
      "[[0. 0. 0. 0.]\n",
      " [0. 0. 0. 0.]\n",
      " [0. 0. 0. 0.]\n",
      " [0. 0. 0. 0.]]\n"
     ]
    },
    {
     "data": {
      "text/plain": [
       "array([[0., 0., 0., 0.],\n",
       "       [0., 0., 0., 0.],\n",
       "       [0., 0., 0., 0.],\n",
       "       [0., 0., 0., 0.]])"
      ]
     },
     "execution_count": 23,
     "metadata": {},
     "output_type": "execute_result"
    },
    {
     "ename": "",
     "evalue": "",
     "output_type": "error",
     "traceback": [
      "\u001b[1;31mThe Kernel crashed while executing code in the the current cell or a previous cell. Please review the code in the cell(s) to identify a possible cause of the failure. Click <a href='https://aka.ms/vscodeJupyterKernelCrash'>here</a> for more info. View Jupyter <a href='command:jupyter.viewOutput'>log</a> for further details."
     ]
    }
   ],
   "source": [
    "def make_b(k, top = 0, bottom = 0, left = 0, right = 0):\n",
    "    \"\"\"Create the right-hand side for the temperature problem on a k-by-k grid.\n",
    "    Parameters: \n",
    "      k: number of grid points in each dimension.\n",
    "      top: list of k values for top boundary (optional, defaults to 0)\n",
    "      bottom: list of k values for bottom boundary (optional, defaults to 0)\n",
    "      left: list of k values for top boundary (optional, defaults to 0)\n",
    "      right: list of k values for top boundary (optional, defaults to 0)\n",
    "    Outputs:\n",
    "      b: the k**2 element vector (as a numpy array) for the rhs of the Poisson equation with given boundary conditions\n",
    "    \"\"\"\n",
    "    # Start with a vector of zeros\n",
    "    ndim = k*k\n",
    "    b = np.zeros(shape = (ndim,ndim))\n",
    "    print(b)\n",
    "    # Fill in the four boundaries as appropriate\n",
    "    b[0        : k       ] += top\n",
    "    b[ndim - k : ndim    ] += bottom\n",
    "    b[0        : ndim : k] += left\n",
    "    b[k-1      : ndim : k] += right\n",
    "    \n",
    "    return b \n",
    "make_b(2)"
   ]
  },
  {
   "cell_type": "code",
   "execution_count": 4,
   "metadata": {},
   "outputs": [],
   "source": [
    "def radiator(k, width = .2, temperature = 100.):\n",
    "    \"\"\"Create one wall with a radiator\n",
    "    Parameters: \n",
    "      k: number of grid points in each dimension; length of the wall.\n",
    "      width: width of the radiator as a fraction of length of the wall (defaults to 0.2)\n",
    "      temperature: temperature of the radiator (defaults to 100)\n",
    "    Outputs:\n",
    "      wall: the k element vector (as a numpy array) for the boundary conditions at the wall\n",
    "    \"\"\"\n",
    "    rad_start = int(k * (0.5 - width/2))\n",
    "    rad_end = int(k * (0.5 + width/2))\n",
    "    wall = np.zeros(k)\n",
    "    wall[rad_start : rad_end] = temperature\n",
    "    \n",
    "    return wall"
   ]
  },
  {
   "cell_type": "markdown",
   "metadata": {},
   "source": [
    "## We will now set up the problem!"
   ]
  },
  {
   "cell_type": "code",
   "execution_count": 5,
   "metadata": {
    "scrolled": false
   },
   "outputs": [
    {
     "name": "stdout",
     "output_type": "stream",
     "text": [
      "rk = [100. 100. 100. 100. 100. 100. 100. 100. 100. 100. 100. 100. 100. 100.\n",
      " 100. 100. 100. 100. 100. 100. 100. 100. 100. 100. 100. 100. 100. 100.\n",
      " 100. 100. 100. 100. 100. 100. 100. 100. 100. 100. 100. 100. 100. 100.\n",
      " 100. 100. 100. 100. 100. 100. 100. 100. 100. 100. 100. 100. 100. 100.\n",
      " 100. 100. 100. 100. 100. 100. 100. 100. 100. 100. 100. 100. 100. 100.\n",
      " 100. 100. 100. 100. 100. 100. 100. 100. 100. 100. 100. 100. 100. 100.\n",
      " 100. 100. 100. 100. 100. 100. 100. 100. 100. 100. 100. 100. 100. 100.\n",
      " 100. 100.]\n",
      "b = [  0.   0.   0. ...   0.   0. 100.]\n",
      "A: (sparse):\n",
      "   (0, 0)\t4.0\n",
      "  (0, 1)\t-1.0\n",
      "  (0, 100)\t-1.0\n",
      "  (1, 0)\t-1.0\n",
      "  (1, 1)\t4.0\n",
      "  (1, 2)\t-1.0\n",
      "  (1, 101)\t-1.0\n",
      "  (2, 1)\t-1.0\n",
      "  (2, 2)\t4.0\n",
      "  (2, 3)\t-1.0\n",
      "  (2, 102)\t-1.0\n",
      "  (3, 2)\t-1.0\n",
      "  (3, 3)\t4.0\n",
      "  (3, 4)\t-1.0\n",
      "  (3, 103)\t-1.0\n",
      "  (4, 3)\t-1.0\n",
      "  (4, 4)\t4.0\n",
      "  (4, 5)\t-1.0\n",
      "  (4, 104)\t-1.0\n",
      "  (5, 4)\t-1.0\n",
      "  (5, 5)\t4.0\n",
      "  (5, 6)\t-1.0\n",
      "  (5, 105)\t-1.0\n",
      "  (6, 5)\t-1.0\n",
      "  (6, 6)\t4.0\n",
      "  :\t:\n",
      "  (9993, 9993)\t4.0\n",
      "  (9993, 9994)\t-1.0\n",
      "  (9994, 9894)\t-1.0\n",
      "  (9994, 9993)\t-1.0\n",
      "  (9994, 9994)\t4.0\n",
      "  (9994, 9995)\t-1.0\n",
      "  (9995, 9895)\t-1.0\n",
      "  (9995, 9994)\t-1.0\n",
      "  (9995, 9995)\t4.0\n",
      "  (9995, 9996)\t-1.0\n",
      "  (9996, 9896)\t-1.0\n",
      "  (9996, 9995)\t-1.0\n",
      "  (9996, 9996)\t4.0\n",
      "  (9996, 9997)\t-1.0\n",
      "  (9997, 9897)\t-1.0\n",
      "  (9997, 9996)\t-1.0\n",
      "  (9997, 9997)\t4.0\n",
      "  (9997, 9998)\t-1.0\n",
      "  (9998, 9898)\t-1.0\n",
      "  (9998, 9997)\t-1.0\n",
      "  (9998, 9998)\t4.0\n",
      "  (9998, 9999)\t-1.0\n",
      "  (9999, 9899)\t-1.0\n",
      "  (9999, 9998)\t-1.0\n",
      "  (9999, 9999)\t4.0\n",
      "\n",
      "A (dense):\n",
      " [[ 4. -1.  0. ...  0.  0.  0.]\n",
      " [-1.  4. -1. ...  0.  0.  0.]\n",
      " [ 0. -1.  4. ...  0.  0.  0.]\n",
      " ...\n",
      " [ 0.  0.  0. ...  4. -1.  0.]\n",
      " [ 0.  0.  0. ... -1.  4. -1.]\n",
      " [ 0.  0.  0. ...  0. -1.  4.]]\n",
      "\n",
      "b: [  0.   0.   0. ...   0.   0. 100.]\n",
      "\n",
      "rad: [100. 100. 100. 100. 100. 100. 100. 100. 100. 100. 100. 100. 100. 100.\n",
      " 100. 100. 100. 100. 100. 100. 100. 100. 100. 100. 100. 100. 100. 100.\n",
      " 100. 100. 100. 100. 100. 100. 100. 100. 100. 100. 100. 100. 100. 100.\n",
      " 100. 100. 100. 100. 100. 100. 100. 100. 100. 100. 100. 100. 100. 100.\n",
      " 100. 100. 100. 100. 100. 100. 100. 100. 100. 100. 100. 100. 100. 100.\n",
      " 100. 100. 100. 100. 100. 100. 100. 100. 100. 100. 100. 100. 100. 100.\n",
      " 100. 100. 100. 100. 100. 100. 100. 100. 100. 100. 100. 100. 100. 100.\n",
      " 100. 100.]\n"
     ]
    }
   ],
   "source": [
    "###########################\n",
    "# Dimension of the square room (NOT the matrix)\n",
    "# TRY using various values between 2 and 100\n",
    "# k = 3    # Same as \"simple\" example given in lecture\n",
    "k = 100\n",
    "\n",
    "###########################\n",
    "# Set up the width of the radiator\n",
    "# Default (per the function def) is 0.2\n",
    "# This is a number relative to the length of the side\n",
    "rk = radiator(k, width = 1)\n",
    "print('rk =', rk)\n",
    "\n",
    "###########################\n",
    "# Create the matrix!\n",
    "# A will be the sparse nxn matrix (where n = k**2)\n",
    "A = make_A(k)\n",
    "\n",
    "###########################\n",
    "# Create the b matrix: defines where the radiators go in the room\n",
    "# SIDE=rk is placement of radiator, where SIDE can be (top, right, bottom, left)\n",
    "b = make_b(k, right=rk)\n",
    "#b = make_b(k, right=rk, left=rk, top=rk, bottom=rk)\n",
    "print('b =', b)\n",
    "\n",
    "###########################\n",
    "# Print stuff to 's see what we got...\n",
    "print(\"A: (sparse):\\n\",A)\n",
    "print()\n",
    "print(\"A (dense):\\n\", A.todense())\n",
    "print(\"\\nb:\", b)\n",
    "print(\"\\nrad:\", rk)"
   ]
  },
  {
   "cell_type": "code",
   "execution_count": 6,
   "metadata": {},
   "outputs": [],
   "source": [
    "#print(npla.solve(A,b))\n",
    "# It won't work... :(\n",
    "\n",
    "# BECAUSE A is actually a SPARSE matrix (.solve() won't work with that format)"
   ]
  },
  {
   "cell_type": "code",
   "execution_count": 7,
   "metadata": {},
   "outputs": [
    {
     "name": "stdout",
     "output_type": "stream",
     "text": [
      "[[ 4. -1.  0. ...  0.  0.  0.]\n",
      " [-1.  4. -1. ...  0.  0.  0.]\n",
      " [ 0. -1.  4. ...  0.  0.  0.]\n",
      " ...\n",
      " [ 0.  0.  0. ...  4. -1.  0.]\n",
      " [ 0.  0.  0. ... -1.  4. -1.]\n",
      " [ 0.  0.  0. ...  0. -1.  4.]]\n"
     ]
    }
   ],
   "source": [
    "# This is how you go back to a dense matrix format:\n",
    "AA = sparse.csr_matrix.todense(A)\n",
    "print(AA)\n",
    "#print(npla.solve(AA,b))\n",
    "\n",
    "# But we won't use this format either..."
   ]
  },
  {
   "cell_type": "code",
   "execution_count": 8,
   "metadata": {},
   "outputs": [
    {
     "name": "stdout",
     "output_type": "stream",
     "text": [
      "[1.07279116e-02 2.14666701e-02 3.22271367e-02 ... 2.09067518e+01\n",
      " 3.02132781e+01 4.99892721e+01] \n",
      "\n",
      "[[1.07279116e-02 2.14666701e-02 3.22271367e-02 ... 2.09067518e+01\n",
      "  3.02132781e+01 4.99892721e+01]\n",
      " [2.14449765e-02 4.29116319e-02 6.44216745e-02 ... 3.76070468e+01\n",
      "  4.99570884e+01 6.97438103e+01]\n",
      " [3.21403623e-02 6.43132066e-02 9.65510583e-02 ... 4.99034489e+01\n",
      "  6.22642183e+01 7.90288807e+01]\n",
      " ...\n",
      " [3.21403623e-02 6.43132066e-02 9.65510583e-02 ... 4.99034489e+01\n",
      "  6.22642183e+01 7.90288807e+01]\n",
      " [2.14449765e-02 4.29116319e-02 6.44216745e-02 ... 3.76070468e+01\n",
      "  4.99570884e+01 6.97438103e+01]\n",
      " [1.07279116e-02 2.14666701e-02 3.22271367e-02 ... 2.09067518e+01\n",
      "  3.02132781e+01 4.99892721e+01]]\n"
     ]
    }
   ],
   "source": [
    "# NOW!!! WE SOLVE IT!!\n",
    "# We're going to use a different function (not .solve) altogether to solve Ax=b using a sparse matrix:\n",
    "t = spla.spsolve(A,b)\n",
    "\n",
    "# Reshape it back to a model (square) of the room\n",
    "T = t.reshape(k,k)\n",
    "\n",
    "print(t,\"\\n\")\n",
    "print(T)\n",
    "# Looking at the data printed out is hopeless... you NEED to visualize it..."
   ]
  },
  {
   "cell_type": "markdown",
   "metadata": {},
   "source": [
    "## Here come the Graphs!\n",
    "\n",
    "**Let's start with a simple demonstration...**"
   ]
  },
  {
   "cell_type": "code",
   "execution_count": 9,
   "metadata": {},
   "outputs": [
    {
     "data": {
      "text/plain": [
       "[<matplotlib.lines.Line2D at 0x205056dd1e0>]"
      ]
     },
     "execution_count": 9,
     "metadata": {},
     "output_type": "execute_result"
    }
   ],
   "source": [
    "# Simple demonstration of the plotting function in PyPlot\n",
    "\n",
    "wave = np.sin( np.array(range(200)) / 100 * 2 * np.pi)\n",
    "\n",
    "#print(wave)\n",
    "plt.plot(wave)"
   ]
  },
  {
   "cell_type": "markdown",
   "metadata": {},
   "source": [
    "### Ok... now for the real thing..."
   ]
  },
  {
   "cell_type": "code",
   "execution_count": 15,
   "metadata": {},
   "outputs": [
    {
     "data": {
      "text/plain": [
       "<matplotlib.image.AxesImage at 0x205055c8a60>"
      ]
     },
     "execution_count": 15,
     "metadata": {},
     "output_type": "execute_result"
    }
   ],
   "source": [
    "# Prep the plotter...\n",
    "# Plot just a 2D image\n",
    "\n",
    "#%matplotlib tk\n",
    "plt.figure()\n",
    "plt.imshow(T, cmap=cm.hot)"
   ]
  },
  {
   "cell_type": "markdown",
   "metadata": {},
   "source": [
    "### Let's try and project the 2D graph onto a 3D representation!"
   ]
  },
  {
   "cell_type": "code",
   "execution_count": 11,
   "metadata": {},
   "outputs": [
    {
     "name": "stdout",
     "output_type": "stream",
     "text": [
      "100\n"
     ]
    }
   ],
   "source": [
    "print(k)"
   ]
  },
  {
   "cell_type": "code",
   "execution_count": 12,
   "metadata": {},
   "outputs": [],
   "source": [
    "# Prep the plotter again...\n",
    "X, Y = np.meshgrid(range(k), range(k))\n",
    "#%matplotlib tk\n",
    "#print(X,\"\\n\")\n",
    "#print(Y)"
   ]
  },
  {
   "cell_type": "code",
   "execution_count": 17,
   "metadata": {},
   "outputs": [
    {
     "ename": "AttributeError",
     "evalue": "'Axes' object has no attribute 'plot_surface'",
     "output_type": "error",
     "traceback": [
      "\u001b[1;31m---------------------------------------------------------------------------\u001b[0m",
      "\u001b[1;31mAttributeError\u001b[0m                            Traceback (most recent call last)",
      "Cell \u001b[1;32mIn[17], line 4\u001b[0m\n\u001b[0;32m      2\u001b[0m fig \u001b[39m=\u001b[39m plt\u001b[39m.\u001b[39mfigure()\n\u001b[0;32m      3\u001b[0m ax \u001b[39m=\u001b[39m fig\u001b[39m.\u001b[39mgca()\n\u001b[1;32m----> 4\u001b[0m ax\u001b[39m.\u001b[39;49mplot_surface(X, Y, T, cmap\u001b[39m=\u001b[39mcm\u001b[39m.\u001b[39mhot)\n",
      "\u001b[1;31mAttributeError\u001b[0m: 'Axes' object has no attribute 'plot_surface'"
     ]
    }
   ],
   "source": [
    "# Plot the 2D image as a 3D projection\n",
    "fig = plt.figure()\n",
    "ax = fig.gca()\n",
    "ax = fig.gca('3d')\n",
    "ax.plot_surface(X, Y, T, cmap=cm.hot)"
   ]
  },
  {
   "cell_type": "code",
   "execution_count": null,
   "metadata": {},
   "outputs": [],
   "source": []
  }
 ],
 "metadata": {
  "interpreter": {
   "hash": "138833874f2dc7c1a2fe589d9c55b0aff635bc609cbe7c4d1d123c8b54c76836"
  },
  "kernelspec": {
   "display_name": "Python 3.10.9 ('base')",
   "language": "python",
   "name": "python3"
  },
  "language_info": {
   "codemirror_mode": {
    "name": "ipython",
    "version": 3
   },
   "file_extension": ".py",
   "mimetype": "text/x-python",
   "name": "python",
   "nbconvert_exporter": "python",
   "pygments_lexer": "ipython3",
   "version": "3.10.9"
  }
 },
 "nbformat": 4,
 "nbformat_minor": 2
}
