{
 "cells": [
  {
   "cell_type": "markdown",
   "metadata": {},
   "source": [
    "# Floating Point Numbers\n",
    "\n",
    "*IEEE 754 Standard for Floating Point: Single and Double Precision*\n",
    "\n",
    "### We'll start off by importing what we need"
   ]
  },
  {
   "cell_type": "code",
   "execution_count": null,
   "metadata": {},
   "outputs": [],
   "source": [
    "import math\n",
    "import numpy as np\n",
    "import numpy.linalg as npla\n",
    "\n",
    "# New one!\n",
    "import struct"
   ]
  },
  {
   "cell_type": "markdown",
   "metadata": {},
   "source": [
    "# Lecture starts here\n",
    "\n",
    "## Let's look at this example from lecture..."
   ]
  },
  {
   "cell_type": "code",
   "execution_count": null,
   "metadata": {
    "scrolled": true
   },
   "outputs": [],
   "source": [
    "# How many loops will it take to get x/2 iteratively so small as to be considered a zero?\n",
    "# First, the default way, where FP numbers are assumed to be double-precision (float64)\n",
    "\n",
    "x = 1.0\n",
    "count = 0\n",
    "while (1.0 + x) != 1.0:\n",
    "    e = x\n",
    "    x = x/2.0\n",
    "    count += 1\n",
    "\n",
    "print(e, count)\n",
    "print(np.finfo(e))"
   ]
  },
  {
   "cell_type": "code",
   "execution_count": null,
   "metadata": {},
   "outputs": [],
   "source": [
    "s = 2**-52\n",
    "print(s)"
   ]
  },
  {
   "cell_type": "code",
   "execution_count": null,
   "metadata": {},
   "outputs": [],
   "source": [
    "# Repeating it but forcing the FP numbers to be single-precision (float32)\n",
    "\n",
    "x = np.float32(1.0)\n",
    "count = 0\n",
    "while (np.float32(1.0) + x) != np.float32(1.0):\n",
    "    e = x\n",
    "    x = x/np.float32(2.0)\n",
    "    count += 1\n",
    "\n",
    "print(e, count)\n",
    "print(np.finfo(e))"
   ]
  },
  {
   "cell_type": "markdown",
   "metadata": {},
   "source": [
    "### You can use `np.float32()` and `np.float64()` to define the floating point type, per IEEE 754 standards.\n",
    "#### Let's try these out with several examples"
   ]
  },
  {
   "cell_type": "code",
   "execution_count": null,
   "metadata": {},
   "outputs": [],
   "source": [
    "a = np.float32(1./512)\n",
    "b = np.float64(1./512)\n",
    "\n",
    "print(a)\n",
    "print(b)"
   ]
  },
  {
   "cell_type": "code",
   "execution_count": null,
   "metadata": {},
   "outputs": [],
   "source": [
    "a = np.float32(1./3)\n",
    "b = np.float64(1./3)\n",
    "\n",
    "print(a)\n",
    "print(b)"
   ]
  },
  {
   "cell_type": "code",
   "execution_count": null,
   "metadata": {},
   "outputs": [],
   "source": [
    "a = np.float32(1./10)\n",
    "b = np.float64(1./10)\n",
    "\n",
    "print(a+a+a+a+a+a+a+a+a+a)    # That's 10 a's in there...\n",
    "print(b+b+b+b+b+b+b+b+b+b)    # That's 10 b's in there..."
   ]
  },
  {
   "cell_type": "markdown",
   "metadata": {},
   "source": [
    "#### Defining a function fprint() that will print out a 64b FP number in various formats and give us information on it"
   ]
  },
  {
   "cell_type": "code",
   "execution_count": null,
   "metadata": {},
   "outputs": [],
   "source": [
    "bits = {'0':'0000', '1':'0001', '2':'0010', '3':'0011', \n",
    "        '4':'0100', '5':'0101', '6':'0110', '7':'0111', \n",
    "        '8':'1000', '9':'1001', 'a':'1010', 'b':'1011', \n",
    "        'c':'1100', 'd':'1101', 'e':'1110', 'f':'1111'}\n",
    "\n",
    "drop = {'0':'0', '1':'1', '2':'2', '3':'3', '4':'4', '5':'5', '6':'6', '7':'7', \n",
    "        '8':'0', '9':'1', 'a':'2', 'b':'3', 'c':'4', 'd':'5', 'e':'6', 'f':'7'}\n",
    "\n",
    "def double_to_hex(f):\n",
    "    s = hex(struct.unpack('<Q', struct.pack('<d', f))[0])\n",
    "    s = s[2:]           # remove the 0x prefix\n",
    "    while len(s) < 16:  # pad with zeros\n",
    "        s = '0' + s\n",
    "    return s\n",
    "\n",
    "def fprint(x):\n",
    "    \"\"\"Print a 64-bit floating-point number in various formats.\n",
    "    \"\"\"\n",
    "    print('input     :', x)\n",
    "    # Cast the input to a 64-bit float\n",
    "    x = np.float64(x)\n",
    "    xhex = double_to_hex(x)\n",
    "    print('as float64: {:.16e}'.format(x))\n",
    "    print('as hex    : ' + xhex)\n",
    "    if bits[xhex[0]][0] == '0':\n",
    "        sign = '0 means +'\n",
    "    else:\n",
    "        sign = '1 means -'\n",
    "    print('sign      :', sign)\n",
    "    expostr = drop[xhex[0]] + xhex[1:3]\n",
    "    expo = int(expostr, 16)\n",
    "    if expo == 0:\n",
    "        print('exponent  :', expostr, 'means zero or denormal')\n",
    "    elif expo == 2047:\n",
    "        print('exponent  :', expostr, 'means inf or nan')\n",
    "    else:\n",
    "        print('exponent  :', expostr, 'means', expo, '- 1023 =', expo - 1023)\n",
    "        mantissa = '1.'\n",
    "        for i in range(3,16):\n",
    "            mantissa = mantissa + bits[xhex[i]]\n",
    "        print('mantissa  :', mantissa)\n",
    "    print()"
   ]
  },
  {
   "cell_type": "markdown",
   "metadata": {},
   "source": [
    "### Demonstration of `fprint()`"
   ]
  },
  {
   "cell_type": "code",
   "execution_count": null,
   "metadata": {
    "scrolled": true
   },
   "outputs": [],
   "source": [
    "fprint(18.125)\n",
    "# Compare against the 64b examples done in lecture"
   ]
  },
  {
   "cell_type": "code",
   "execution_count": null,
   "metadata": {},
   "outputs": [],
   "source": [
    "fprint(2.)"
   ]
  },
  {
   "cell_type": "code",
   "execution_count": null,
   "metadata": {},
   "outputs": [],
   "source": [
    "fprint(1.)"
   ]
  },
  {
   "cell_type": "code",
   "execution_count": null,
   "metadata": {},
   "outputs": [],
   "source": [
    "fprint(0)"
   ]
  },
  {
   "cell_type": "markdown",
   "metadata": {},
   "source": [
    "### Special \"numbers\" in IEEE 754"
   ]
  },
  {
   "cell_type": "code",
   "execution_count": null,
   "metadata": {},
   "outputs": [],
   "source": [
    "fprint(np.inf)"
   ]
  },
  {
   "cell_type": "code",
   "execution_count": null,
   "metadata": {},
   "outputs": [],
   "source": [
    "fprint(-np.inf)"
   ]
  },
  {
   "cell_type": "code",
   "execution_count": null,
   "metadata": {},
   "outputs": [],
   "source": [
    "fprint(np.nan)"
   ]
  },
  {
   "cell_type": "code",
   "execution_count": null,
   "metadata": {},
   "outputs": [],
   "source": [
    "a = 1/10\n",
    "print(a)\n",
    "print(a+a+a+a+a+a+a+a+a+a)    # That's 10 a's in there...\n",
    "print()\n",
    "\n",
    "fprint(a)\n",
    "fprint(a+a+a+a+a+a+a+a+a+a)"
   ]
  },
  {
   "cell_type": "markdown",
   "metadata": {},
   "source": [
    "### Let's run the x = 1+x routine (or something similar to it) with `fprint()` to get more info"
   ]
  },
  {
   "cell_type": "code",
   "execution_count": null,
   "metadata": {},
   "outputs": [],
   "source": [
    "# This is going to be helpful for one of your homework problems...! :)\n",
    "x = 1.0\n",
    "for i in range(200):\n",
    "    print('x:')\n",
    "    fprint(x)\n",
    "    print('1 + x:')\n",
    "    fprint(1.0 + x)\n",
    "    print('---------------------------------')\n",
    "    if 1.0 == (1.0 + x): \n",
    "        print('Stopped at iteration: ', i)\n",
    "        break\n",
    "    x = x/2."
   ]
  },
  {
   "cell_type": "code",
   "execution_count": null,
   "metadata": {},
   "outputs": [],
   "source": []
  },
  {
   "cell_type": "markdown",
   "metadata": {},
   "source": [
    "### What are the the parameters for a double-precision on my machine?\n",
    "**These will look different on different CPUs**"
   ]
  },
  {
   "cell_type": "code",
   "execution_count": null,
   "metadata": {},
   "outputs": [],
   "source": [
    "print(np.finfo(np.float64))"
   ]
  },
  {
   "cell_type": "code",
   "execution_count": null,
   "metadata": {},
   "outputs": [],
   "source": [
    "print(np.finfo(np.float32))"
   ]
  }
 ],
 "metadata": {
  "kernelspec": {
   "display_name": "Python 3 (ipykernel)",
   "language": "python",
   "name": "python3"
  },
  "language_info": {
   "codemirror_mode": {
    "name": "ipython",
    "version": 3
   },
   "file_extension": ".py",
   "mimetype": "text/x-python",
   "name": "python",
   "nbconvert_exporter": "python",
   "pygments_lexer": "ipython3",
   "version": "3.10.9"
  }
 },
 "nbformat": 4,
 "nbformat_minor": 2
}
