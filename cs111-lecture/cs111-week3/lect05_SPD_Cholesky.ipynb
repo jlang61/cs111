{
 "cells": [
  {
   "cell_type": "markdown",
   "metadata": {},
   "source": [
    "# SPDs and Cholesky Matrix Factorization\n",
    "\n",
    "\n",
    "### We'll start off by importing numpy and the linear algebra class (linalg) from numpy"
   ]
  },
  {
   "cell_type": "code",
   "execution_count": 1,
   "metadata": {},
   "outputs": [],
   "source": [
    "import numpy as np\n",
    "import numpy.linalg as npla"
   ]
  },
  {
   "cell_type": "markdown",
   "metadata": {},
   "source": [
    "## Eigenvalues and Eigenvectors"
   ]
  },
  {
   "cell_type": "code",
   "execution_count": 27,
   "metadata": {},
   "outputs": [
    {
     "name": "stdout",
     "output_type": "stream",
     "text": [
      "Eigenvalues: [4.61803399 2.38196601] \n",
      "\n",
      "Eigenvectors:\n",
      " [[ 0.85065081  0.52573111]\n",
      " [-0.52573111  0.85065081]]\n"
     ]
    }
   ],
   "source": [
    "#Examples of M to try:\n",
    "\n",
    "#M = np.array([[1, 0], [0, 2]])\n",
    "#M = np.array([[-1, 4], [5, -2]])\n",
    "#M = np.array([[1, 0, 0], [0, 2, 0], [0, 0, 3]])\n",
    "#M = np.array([[1, 2, -1], [1, 1, 1], [0, 3, 4]])\n",
    "#M = np.array([[1, -1], [1, 1]])\n",
    "\n",
    "M= np.array( [ [4,-1],[-1,3] ])\n",
    "\n",
    "d, V = npla.eig(M)\n",
    "print('Eigenvalues:', d, '\\n')\n",
    "print('Eigenvectors:\\n', V)"
   ]
  },
  {
   "cell_type": "markdown",
   "metadata": {},
   "source": [
    "**Symmetrical Positive Definite Matrices**\n",
    "\n",
    "***How to define SPDs? They are SYMMETRICAL and they are POSITIVE DEFINITE.***\n",
    "\n",
    "### Test A: Is the matrix C symmetrical?"
   ]
  },
  {
   "cell_type": "code",
   "execution_count": 22,
   "metadata": {},
   "outputs": [
    {
     "name": "stdout",
     "output_type": "stream",
     "text": [
      "C:\n",
      " [[5 5 5]\n",
      " [5 6 5]\n",
      " [5 5 8]]\n",
      "\n",
      "C.T:\n",
      " [[5 5 5]\n",
      " [5 6 5]\n",
      " [5 5 8]]\n"
     ]
    }
   ],
   "source": [
    "C = np.array([[5, 5, 5],[5, 6, 5],[5, 5, 8]])\n",
    "\n",
    "print(\"C:\\n\", C)\n",
    "print(\"\\nC.T:\\n\", C.T)"
   ]
  },
  {
   "cell_type": "markdown",
   "metadata": {},
   "source": [
    "### Prove that C is equal to C.T:"
   ]
  },
  {
   "cell_type": "code",
   "execution_count": 8,
   "metadata": {},
   "outputs": [
    {
     "name": "stdout",
     "output_type": "stream",
     "text": [
      "[[ True  True  True]\n",
      " [ True  True  True]\n",
      " [ True  True  True]]\n"
     ]
    }
   ],
   "source": [
    "# Calculation method to show equality:\n",
    "\n",
    "print(C == C.T)"
   ]
  },
  {
   "cell_type": "markdown",
   "metadata": {},
   "source": [
    "**Imagine that C is a much bigger matrix - the above form is not convenient!**"
   ]
  },
  {
   "cell_type": "code",
   "execution_count": 20,
   "metadata": {},
   "outputs": [
    {
     "name": "stdout",
     "output_type": "stream",
     "text": [
      "True\n",
      "They're symmetrical, baby!\n"
     ]
    }
   ],
   "source": [
    "# Another way to show this (gives True only if **every** entry is True in matrix):\n",
    "\n",
    "print(np.all(C == C.T))\n",
    "#print(np.any(C != C.T) == False)\n",
    "\n",
    "if np.all(C == C.T):\n",
    "    print(\"They're symmetrical, baby!\")"
   ]
  },
  {
   "cell_type": "markdown",
   "metadata": {},
   "source": [
    "### Test B: Is the matrix C Pos.Def?\n",
    "\n",
    "*If so, then X.T @ C @ X should always be a positive number for **every** non-zero X vector*"
   ]
  },
  {
   "cell_type": "code",
   "execution_count": 23,
   "metadata": {},
   "outputs": [
    {
     "name": "stdout",
     "output_type": "stream",
     "text": [
      "[[5 5 5]\n",
      " [5 6 5]\n",
      " [5 5 8]]\n",
      "\n",
      "xT@C@x:\n",
      " 12099\n"
     ]
    }
   ],
   "source": [
    "# Choose any vector x that isn't a zero vector:\n",
    "print(C)\n",
    "\n",
    "x = np.array([11, 52, -55])\n",
    "print(\"\\nxT@C@x:\\n\", x.T@C@x)"
   ]
  },
  {
   "cell_type": "markdown",
   "metadata": {},
   "source": [
    "**Note that this is just true for ONE vector x**\n",
    "\n",
    "***You'd have to do this for ALL x to establish proof...\n",
    "This is why it is easier to prove SPD using the easier route (see next example)***\n",
    "\n",
    "\n",
    "\n"
   ]
  },
  {
   "cell_type": "markdown",
   "metadata": {},
   "source": [
    "\\\n",
    "Note on ***finding eigenvalues in numpy --- IMPORTANT! READ THIS!!!***\n",
    "\n",
    "***npla.eig(C)[0]*** *gives you the eigenvalues in a vector,*\n",
    "\n",
    "***npla.eig(C)[1]*** *gives you the eigenvectors (each column is an eigvector)*"
   ]
  },
  {
   "cell_type": "code",
   "execution_count": 24,
   "metadata": {},
   "outputs": [
    {
     "name": "stdout",
     "output_type": "stream",
     "text": [
      "Eigenvalues:\n",
      " [16.43991452  0.42793012  2.13215536]\n",
      "\n",
      "Eigenvectors:\n",
      " [[ 0.5248649   0.79374028 -0.30739746]\n",
      " [ 0.55885893 -0.59374805 -0.57891273]\n",
      " [ 0.64202299 -0.13205916  0.75522636]]\n"
     ]
    }
   ],
   "source": [
    "lambdas = npla.eig(C)\n",
    "print(\"Eigenvalues:\\n\", lambdas[0])\n",
    "print()\n",
    "print(\"Eigenvectors:\\n\", lambdas[1])"
   ]
  },
  {
   "cell_type": "code",
   "execution_count": 25,
   "metadata": {},
   "outputs": [
    {
     "name": "stdout",
     "output_type": "stream",
     "text": [
      "[ True  True  True]\n"
     ]
    }
   ],
   "source": [
    "# Are the eigenvalues all >0 ??\n",
    "\n",
    "print(npla.eig(C)[0] > 0)"
   ]
  },
  {
   "cell_type": "code",
   "execution_count": 26,
   "metadata": {},
   "outputs": [
    {
     "name": "stdout",
     "output_type": "stream",
     "text": [
      "True\n"
     ]
    }
   ],
   "source": [
    "# Another way to show ALL eigenvalues are positive:\n",
    "\n",
    "print(np.all(npla.eig(C)[0] > 0))"
   ]
  },
  {
   "cell_type": "markdown",
   "metadata": {},
   "source": [
    "## Cholesky Factorization Example"
   ]
  },
  {
   "cell_type": "code",
   "execution_count": 29,
   "metadata": {},
   "outputs": [
    {
     "name": "stdout",
     "output_type": "stream",
     "text": [
      "C:\n",
      " [[5 5 5]\n",
      " [5 6 5]\n",
      " [5 5 8]]\n",
      "R:\n",
      " [[ 2.23606798e+00  0.00000000e+00  0.00000000e+00]\n",
      " [ 2.23606798e+00  1.00000000e+00  0.00000000e+00]\n",
      " [ 2.23606798e+00 -4.85863154e-16  1.73205081e+00]] \n",
      "\n",
      "Check the calculation: R@R.T:\n",
      " [[5. 5. 5.]\n",
      " [5. 6. 5.]\n",
      " [5. 5. 8.]]\n"
     ]
    }
   ],
   "source": [
    "# C is thus SPD\n",
    "# Which means, we can do the Cholesky Factorization on it\n",
    "# i.e. C = R@R.T\n",
    "\n",
    "R = npla.cholesky(C)\n",
    "\n",
    "print(\"C:\\n\", C)\n",
    "print(\"R:\\n\",R,\"\\n\")\n",
    "print(\"Check the calculation: R@R.T:\\n\", R @ R.T)"
   ]
  },
  {
   "cell_type": "markdown",
   "metadata": {},
   "source": [
    "**Is that the SAME as the original matrix C?**\n",
    "\n",
    "## Error Calculations"
   ]
  },
  {
   "cell_type": "code",
   "execution_count": 33,
   "metadata": {},
   "outputs": [
    {
     "name": "stdout",
     "output_type": "stream",
     "text": [
      "Residual:\n",
      " [[-8.8817842e-16 -8.8817842e-16 -8.8817842e-16]\n",
      " [-8.8817842e-16 -8.8817842e-16  0.0000000e+00]\n",
      " [-8.8817842e-16  0.0000000e+00  0.0000000e+00]]\n",
      "\n",
      "Residual norm: 2.175583928816829e-15\n",
      "\n",
      "Relative residual norm: 1.3119264712386714e-16\n"
     ]
    }
   ],
   "source": [
    "print(\"Residual:\\n\", C - R@R.T)  \n",
    "\n",
    "print(\"\\nResidual norm:\", npla.norm(C - R@R.T))\n",
    "\n",
    "print(\"\\nRelative residual norm:\", npla.norm(C - R@R.T) / npla.norm(C) )"
   ]
  },
  {
   "cell_type": "code",
   "execution_count": null,
   "metadata": {},
   "outputs": [],
   "source": []
  }
 ],
 "metadata": {
  "kernelspec": {
   "display_name": "Python 3 (ipykernel)",
   "language": "python",
   "name": "python3"
  },
  "language_info": {
   "codemirror_mode": {
    "name": "ipython",
    "version": 3
   },
   "file_extension": ".py",
   "mimetype": "text/x-python",
   "name": "python",
   "nbconvert_exporter": "python",
   "pygments_lexer": "ipython3",
   "version": "3.10.9"
  }
 },
 "nbformat": 4,
 "nbformat_minor": 2
}
