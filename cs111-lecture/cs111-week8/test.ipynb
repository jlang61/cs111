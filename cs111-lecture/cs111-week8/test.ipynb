{
 "cells": [
  {
   "cell_type": "code",
   "execution_count": 6,
   "metadata": {},
   "outputs": [
    {
     "name": "stdout",
     "output_type": "stream",
     "text": [
      "[[1.]\n",
      " [1.]\n",
      " [1.]]\n",
      "[[1 2]\n",
      " [2 1]]\n",
      "[[10]\n",
      " [20]\n",
      " [20]\n",
      " [10]]\n"
     ]
    }
   ],
   "source": [
    "import numpy as np \n",
    "print(np.ones((3,1)))\n",
    "A = np.array([[1,2],[2,1]])\n",
    "print(A)\n",
    "A_out = np.outer(A,10)\n",
    "print(A_out)"
   ]
  }
 ],
 "metadata": {
  "interpreter": {
   "hash": "138833874f2dc7c1a2fe589d9c55b0aff635bc609cbe7c4d1d123c8b54c76836"
  },
  "kernelspec": {
   "display_name": "Python 3.10.9 ('base')",
   "language": "python",
   "name": "python3"
  },
  "language_info": {
   "codemirror_mode": {
    "name": "ipython",
    "version": 3
   },
   "file_extension": ".py",
   "mimetype": "text/x-python",
   "name": "python",
   "nbconvert_exporter": "python",
   "pygments_lexer": "ipython3",
   "version": "3.10.9"
  },
  "orig_nbformat": 4
 },
 "nbformat": 4,
 "nbformat_minor": 2
}
