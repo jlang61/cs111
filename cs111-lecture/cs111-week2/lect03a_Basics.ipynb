{
 "cells": [
  {
   "cell_type": "markdown",
   "metadata": {},
   "source": [
    "# CS111 Lecture 3 - Demo #1\n",
    "## Spring 2023, Z. Matni\n",
    "\n",
    "### Basic and Special Matrices in `numpy`\n",
    "    * Matrix multiplication using the @ operator.\n",
    "    * Creating random number matrices.\n",
    "    * Solving for vector x in the Ax = b problem.\n",
    "    * Finding the residual error and the relative norm of the residual error.\n",
    "    * Identity, Diagonal, Permutation Matrices."
   ]
  },
  {
   "cell_type": "markdown",
   "metadata": {},
   "source": [
    "<em>We'll start off by importing numpy and the linear algebra class (linalg) from numpy</em>"
   ]
  },
  {
   "cell_type": "code",
   "execution_count": 18,
   "metadata": {},
   "outputs": [],
   "source": [
    "import numpy as np\n",
    "import numpy.linalg as npla"
   ]
  },
  {
   "cell_type": "markdown",
   "metadata": {},
   "source": [
    "<em>Let's define a matrix in Python!!</em> \n",
    "\n",
    "Ok... a vector, really..."
   ]
  },
  {
   "cell_type": "code",
   "execution_count": 19,
   "metadata": {},
   "outputs": [
    {
     "name": "stdout",
     "output_type": "stream",
     "text": [
      "[1 2 3]\n"
     ]
    }
   ],
   "source": [
    "A = np.array([1,2,3])\n",
    "print(A)"
   ]
  },
  {
   "cell_type": "markdown",
   "metadata": {},
   "source": [
    "<em>Let's do another one!!!!!!</em>"
   ]
  },
  {
   "cell_type": "code",
   "execution_count": 20,
   "metadata": {},
   "outputs": [
    {
     "name": "stdout",
     "output_type": "stream",
     "text": [
      "[[  1   2   3]\n",
      " [  4   5   6]\n",
      " [  7   8   9]\n",
      " [ 10  11 -12]]\n"
     ]
    }
   ],
   "source": [
    "A = np.array([  [1,2,3], [4,5,6], [7,8,9], [10, 11, -12]  ])\n",
    "print(A)"
   ]
  },
  {
   "cell_type": "markdown",
   "metadata": {},
   "source": [
    "## Multiplying 2 matrices\n",
    "\n",
    "*Let's define 2 4x4 arrays: U and L, and then we'll multiply them as: A1 = LU*\n",
    "\n",
    "*Note that this is the same example we did in lecture (on the slides)*\n",
    "\n",
    "*Also, is it the same as A2 = UL?*"
   ]
  },
  {
   "cell_type": "code",
   "execution_count": 21,
   "metadata": {},
   "outputs": [
    {
     "name": "stdout",
     "output_type": "stream",
     "text": [
      "[[2 7 1 8]\n",
      " [0 2 8 1]\n",
      " [0 0 8 2]\n",
      " [0 0 0 8]]\n"
     ]
    }
   ],
   "source": [
    "# Example of an upper triangular matrix\n",
    "\n",
    "U = np.array([[2,7,1,8],[0,2,8,1],[0,0,8,2],[0,0,0,8]])\n",
    "print(U)"
   ]
  },
  {
   "cell_type": "code",
   "execution_count": 22,
   "metadata": {
    "scrolled": true
   },
   "outputs": [
    {
     "name": "stdout",
     "output_type": "stream",
     "text": [
      "[[ 1.   0.   0.   0. ]\n",
      " [ 0.5  1.   0.   0. ]\n",
      " [ 0.   0.5  1.   0. ]\n",
      " [-0.5 -0.5  0.   1. ]]\n"
     ]
    }
   ],
   "source": [
    "# Example of a unit lower triangular matrix\n",
    "\n",
    "L = np.array([[1,0,0,0],[.5,1,0,0],[0,.5,1,0],[-.5,-.5,0,1]])\n",
    "print(L)"
   ]
  },
  {
   "cell_type": "markdown",
   "metadata": {},
   "source": [
    "*Ok, we've defined U and L, now let's multiply them (as L.U) and see what we get...*"
   ]
  },
  {
   "cell_type": "code",
   "execution_count": 23,
   "metadata": {},
   "outputs": [
    {
     "name": "stdout",
     "output_type": "stream",
     "text": [
      "[[ 2.   7.   1.   8. ]\n",
      " [ 1.   5.5  8.5  5. ]\n",
      " [ 0.   1.  12.   2.5]\n",
      " [-1.  -4.5 -4.5  3.5]]\n"
     ]
    }
   ],
   "source": [
    "# The @ operator is matrix multiplication\n",
    "A1 = L @ U\n",
    "print(A1)"
   ]
  },
  {
   "cell_type": "code",
   "execution_count": 24,
   "metadata": {},
   "outputs": [
    {
     "name": "stdout",
     "output_type": "stream",
     "text": [
      "[[ 1.5  3.5  1.   8. ]\n",
      " [ 0.5  5.5  8.   1. ]\n",
      " [-1.   3.   8.   2. ]\n",
      " [-4.  -4.   0.   8. ]]\n"
     ]
    }
   ],
   "source": [
    "# Is it the same as A = UL?\n",
    "A2 = U @ L\n",
    "print(A2)"
   ]
  },
  {
   "cell_type": "markdown",
   "metadata": {},
   "source": [
    "## Creating random number matrices\n",
    "\n",
    "***np.random.rand(N)*** *creates a set of N random numbers in one row*\n",
    "\n",
    "***np.round()*** *rounds up the numbers to the nearest integer (how could we make them round up to, say the 2nd decimal?)*"
   ]
  },
  {
   "cell_type": "code",
   "execution_count": 25,
   "metadata": {},
   "outputs": [
    {
     "name": "stdout",
     "output_type": "stream",
     "text": [
      "[6.36008958 3.54069368 0.24192389 7.62940572 8.59280931]\n"
     ]
    }
   ],
   "source": [
    "A = 10 * np.random.rand(5)\n",
    "A= A.T\n",
    "print(A)"
   ]
  },
  {
   "cell_type": "code",
   "execution_count": 26,
   "metadata": {},
   "outputs": [
    {
     "name": "stdout",
     "output_type": "stream",
     "text": [
      "[6. 4. 0. 8. 9.]\n"
     ]
    }
   ],
   "source": [
    "print(np.round(A))"
   ]
  },
  {
   "cell_type": "code",
   "execution_count": 27,
   "metadata": {},
   "outputs": [
    {
     "name": "stdout",
     "output_type": "stream",
     "text": [
      "[ 5.  6. 10.  1.  2.]\n"
     ]
    }
   ],
   "source": [
    "# Note the use of .round() and .rand()\n",
    "\n",
    "MyX = np.round( 10 * np.random.rand(5) )\n",
    "print(MyX)"
   ]
  },
  {
   "cell_type": "code",
   "execution_count": 28,
   "metadata": {},
   "outputs": [
    {
     "name": "stdout",
     "output_type": "stream",
     "text": [
      "80.27887318323451\n"
     ]
    }
   ],
   "source": [
    "print(A@MyX)"
   ]
  },
  {
   "cell_type": "code",
   "execution_count": 29,
   "metadata": {},
   "outputs": [
    {
     "ename": "ValueError",
     "evalue": "matmul: Input operand 1 has a mismatch in its core dimension 0, with gufunc signature (n?,k),(k,m?)->(n?,m?) (size 2 is different from 5)",
     "output_type": "error",
     "traceback": [
      "\u001b[1;31m---------------------------------------------------------------------------\u001b[0m",
      "\u001b[1;31mValueError\u001b[0m                                Traceback (most recent call last)",
      "Cell \u001b[1;32mIn[29], line 4\u001b[0m\n\u001b[0;32m      2\u001b[0m X \u001b[39m=\u001b[39m \u001b[39m10\u001b[39m \u001b[39m*\u001b[39m np\u001b[39m.\u001b[39mrandom\u001b[39m.\u001b[39mrand(\u001b[39m5\u001b[39m)\n\u001b[0;32m      3\u001b[0m Y \u001b[39m=\u001b[39m np\u001b[39m.\u001b[39marray([[\u001b[39m1\u001b[39m],[\u001b[39m1\u001b[39m]])\n\u001b[1;32m----> 4\u001b[0m \u001b[39mprint\u001b[39m(X \u001b[39m@\u001b[39;49m Y)\n",
      "\u001b[1;31mValueError\u001b[0m: matmul: Input operand 1 has a mismatch in its core dimension 0, with gufunc signature (n?,k),(k,m?)->(n?,m?) (size 2 is different from 5)"
     ]
    }
   ],
   "source": [
    "#TEst\n",
    "X = 10 * np.random.rand(5)\n",
    "Y = np.array([[1],[1]])\n",
    "print(X @ Y)"
   ]
  },
  {
   "cell_type": "markdown",
   "metadata": {},
   "source": [
    "*Let's try to find the matrix multiplication of A.MyX*\n",
    "\n",
    "***What limitations do I have?***"
   ]
  },
  {
   "cell_type": "code",
   "execution_count": 30,
   "metadata": {},
   "outputs": [
    {
     "name": "stdout",
     "output_type": "stream",
     "text": [
      "[15. 31.]\n"
     ]
    }
   ],
   "source": [
    "A = np.array([[1, 2], [3, 4]])\n",
    "MyX = np.round( 10 * np.random.rand(2) )\n",
    "\n",
    "# @ operator: matrix multiplication\n",
    "b = A @ MyX\n",
    "print(b)"
   ]
  },
  {
   "cell_type": "markdown",
   "metadata": {},
   "source": [
    "*Instead of what we did above, I will ask numpy to just solve **x** for **Ax = b** for me using the **np.solve()** function.*\n",
    "\n",
    "This is **exactly** the 3x3 matrix example we did in class! - Recall that the solution was **(-1, 1.5, 1)**"
   ]
  },
  {
   "cell_type": "code",
   "execution_count": 31,
   "metadata": {},
   "outputs": [
    {
     "name": "stdout",
     "output_type": "stream",
     "text": [
      "[[1 0 2]\n",
      " [2 2 0]\n",
      " [3 2 1]] \n",
      "\n",
      "[1 1 1]\n"
     ]
    }
   ],
   "source": [
    "A = np.array([[1,0,2],[2,2,0],[3,2,1]])\n",
    "print(A, \"\\n\")\n",
    "\n",
    "b = np.array([1,1,1])\n",
    "print(b)"
   ]
  },
  {
   "cell_type": "markdown",
   "metadata": {},
   "source": [
    "**I am now going to solve for vector x where: Ax = b**\n",
    "\n",
    "Notice that I didn't force **b** to be a *column* and that the following code works fine if **b** is defined as a *row*"
   ]
  },
  {
   "cell_type": "code",
   "execution_count": 32,
   "metadata": {},
   "outputs": [
    {
     "name": "stdout",
     "output_type": "stream",
     "text": [
      "[-1.   1.5  1. ]\n"
     ]
    }
   ],
   "source": [
    "# Use the solve() function from npla (np.linalg)\n",
    "# This solves for x in Ax = b setup\n",
    "\n",
    "X = npla.solve(A, b)\n",
    "#solves via gaussian elimination \n",
    "print(X)"
   ]
  },
  {
   "cell_type": "markdown",
   "metadata": {},
   "source": [
    "Another example!"
   ]
  },
  {
   "cell_type": "code",
   "execution_count": 33,
   "metadata": {},
   "outputs": [
    {
     "name": "stdout",
     "output_type": "stream",
     "text": [
      "A:\n",
      " [[14.99684498 14.64928596  3.86418305 15.4210709  13.59961875]\n",
      " [ 8.15838042 15.30988526 14.07357229  6.44925497  2.73958087]\n",
      " [ 5.70712276  0.73838734 11.06643504 16.98664824  3.39429629]\n",
      " [18.65148375 17.30397133  0.76632911 19.94933675 15.68070339]\n",
      " [15.44532137 12.22352477  9.36285712  0.51819185 18.20877774]]\n",
      "\n",
      "original x:\n",
      " [2. 6. 0. 9. 2.]\n",
      "\n",
      "right-hand side b:\n",
      " [283.87828129 171.69852891 175.51299625 352.03223303 145.31307346]\n"
     ]
    }
   ],
   "source": [
    "# Creating a right-hand side for which we know the answer to Ax=b\n",
    "\n",
    "A = 20*np.random.rand(5,5)\n",
    "#Creates a 5 by 5 matrix\n",
    "xorig = np.round(10*np.random.rand(5))\n",
    "print(\"A:\\n\", A)\n",
    "print(\"\\noriginal x:\\n\", xorig)\n",
    "b = A @ xorig\n",
    "print(\"\\nright-hand side b:\\n\", b)"
   ]
  },
  {
   "cell_type": "markdown",
   "metadata": {},
   "source": [
    "*Now*, let's just give Python **A** and **b** and ask it to solve for **x** where **Ax = b**.\n",
    "\n",
    "Let's then compare what it calculates vs. our own given **x** vector from the previous code above."
   ]
  },
  {
   "cell_type": "code",
   "execution_count": 34,
   "metadata": {},
   "outputs": [
    {
     "name": "stdout",
     "output_type": "stream",
     "text": [
      "computed x: [2. 6. 0. 9. 2.]\n"
     ]
    }
   ],
   "source": [
    "x = npla.solve(A,b)\n",
    "print(\"computed x:\", x)"
   ]
  },
  {
   "cell_type": "markdown",
   "metadata": {},
   "source": [
    "So, ARE the *original x* and the *computed x* ***exactly*** the same?"
   ]
  },
  {
   "cell_type": "code",
   "execution_count": 35,
   "metadata": {},
   "outputs": [
    {
     "name": "stdout",
     "output_type": "stream",
     "text": [
      "residual: [ 0.00000000e+00 -2.84217094e-14 -2.84217094e-14 -5.68434189e-14\n",
      " -2.84217094e-14]\n",
      "relative norm of residual: 1.4063098055416362e-16\n"
     ]
    }
   ],
   "source": [
    "residual = b - A@x\n",
    "print(\"residual:\", residual)\n",
    "print(\"relative norm of residual:\", npla.norm(residual) / npla.norm(b))"
   ]
  },
  {
   "cell_type": "markdown",
   "metadata": {},
   "source": [
    "*Demonstrating the range() method*\n",
    "\n",
    "Python can create an integer range from 0 to N-1, in steps of 1, with the term **range(N)**:"
   ]
  },
  {
   "cell_type": "code",
   "execution_count": 36,
   "metadata": {},
   "outputs": [
    {
     "data": {
      "text/plain": [
       "array([ 0,  1,  2,  3,  4,  5,  6,  7,  8,  9, 10, 11, 12, 13, 14, 15, 16,\n",
       "       17, 18, 19, 20, 21, 22, 23, 24])"
      ]
     },
     "execution_count": 36,
     "metadata": {},
     "output_type": "execute_result"
    }
   ],
   "source": [
    "np.array(range(25))"
   ]
  },
  {
   "cell_type": "markdown",
   "metadata": {},
   "source": [
    "We can also \"reshape\" this vector into a MxN matrix of our choosing:"
   ]
  },
  {
   "cell_type": "code",
   "execution_count": 37,
   "metadata": {},
   "outputs": [
    {
     "name": "stdout",
     "output_type": "stream",
     "text": [
      "[[ 0  1  2  3  4  5]\n",
      " [ 6  7  8  9 10 11]\n",
      " [12 13 14 15 16 17]\n",
      " [18 19 20 21 22 23]\n",
      " [24 25 26 27 28 29]]\n"
     ]
    }
   ],
   "source": [
    "import numpy as np\n",
    "print(np.array(range(30)).reshape(5,6) )  # Gives us a 5x5 matrix"
   ]
  },
  {
   "cell_type": "markdown",
   "metadata": {},
   "source": [
    "Demonstrating how to create the identity matrix, **I**"
   ]
  },
  {
   "cell_type": "code",
   "execution_count": 38,
   "metadata": {},
   "outputs": [
    {
     "name": "stdout",
     "output_type": "stream",
     "text": [
      "[[1. 0. 0. 0. 0.]\n",
      " [0. 1. 0. 0. 0.]\n",
      " [0. 0. 1. 0. 0.]\n",
      " [0. 0. 0. 1. 0.]\n",
      " [0. 0. 0. 0. 1.]]\n"
     ]
    }
   ],
   "source": [
    "I = np.eye(5)\n",
    "print(I)"
   ]
  },
  {
   "cell_type": "markdown",
   "metadata": {},
   "source": [
    "What is the answer to the matrix multiplication AI ?? Is it the same as IA?"
   ]
  },
  {
   "cell_type": "markdown",
   "metadata": {},
   "source": [
    "### Special Matrices in Python!\n",
    "\n",
    "**IDENTITY MATRIX**"
   ]
  },
  {
   "cell_type": "code",
   "execution_count": 39,
   "metadata": {},
   "outputs": [
    {
     "name": "stdout",
     "output_type": "stream",
     "text": [
      "[[1. 0. 0. 0. 0.]\n",
      " [0. 1. 0. 0. 0.]\n",
      " [0. 0. 1. 0. 0.]\n",
      " [0. 0. 0. 1. 0.]\n",
      " [0. 0. 0. 0. 1.]]\n",
      "[[14.99684498 14.64928596  3.86418305 15.4210709  13.59961875]\n",
      " [ 8.15838042 15.30988526 14.07357229  6.44925497  2.73958087]\n",
      " [ 5.70712276  0.73838734 11.06643504 16.98664824  3.39429629]\n",
      " [18.65148375 17.30397133  0.76632911 19.94933675 15.68070339]\n",
      " [15.44532137 12.22352477  9.36285712  0.51819185 18.20877774]]\n",
      "[[14.99684498 14.64928596  3.86418305 15.4210709  13.59961875]\n",
      " [ 8.15838042 15.30988526 14.07357229  6.44925497  2.73958087]\n",
      " [ 5.70712276  0.73838734 11.06643504 16.98664824  3.39429629]\n",
      " [18.65148375 17.30397133  0.76632911 19.94933675 15.68070339]\n",
      " [15.44532137 12.22352477  9.36285712  0.51819185 18.20877774]]\n",
      "[[0. 0. 0. 0. 0.]\n",
      " [0. 0. 0. 0. 0.]\n",
      " [0. 0. 0. 0. 0.]\n",
      " [0. 0. 0. 0. 0.]\n",
      " [0. 0. 0. 0. 0.]]\n",
      "[[ True  True  True  True  True]\n",
      " [ True  True  True  True  True]\n",
      " [ True  True  True  True  True]\n",
      " [ True  True  True  True  True]\n",
      " [ True  True  True  True  True]]\n",
      "0.0\n"
     ]
    }
   ],
   "source": [
    "# Identity matrix\n",
    "I = np.eye(5)\n",
    "print(I)\n",
    "print(A)\n",
    "print(A@I)\n",
    "residual = A - A@I\n",
    "print(residual)\n",
    "print(I@A == A@I)\n",
    "print(npla.norm(A@I - I@A))"
   ]
  },
  {
   "cell_type": "code",
   "execution_count": 42,
   "metadata": {},
   "outputs": [
    {
     "name": "stdout",
     "output_type": "stream",
     "text": [
      "[[14.99684498 14.64928596  3.86418305 15.4210709  13.59961875]\n",
      " [ 8.15838042 15.30988526 14.07357229  6.44925497  2.73958087]\n",
      " [ 5.70712276  0.73838734 11.06643504 16.98664824  3.39429629]\n",
      " [18.65148375 17.30397133  0.76632911 19.94933675 15.68070339]\n",
      " [15.44532137 12.22352477  9.36285712  0.51819185 18.20877774]]\n",
      "\n",
      " [[14.99684498 14.64928596  3.86418305 15.4210709  13.59961875]\n",
      " [ 8.15838042 15.30988526 14.07357229  6.44925497  2.73958087]\n",
      " [ 5.70712276  0.73838734 11.06643504 16.98664824  3.39429629]\n",
      " [18.65148375 17.30397133  0.76632911 19.94933675 15.68070339]\n",
      " [15.44532137 12.22352477  9.36285712  0.51819185 18.20877774]]\n",
      "True\n",
      "False\n",
      "True\n"
     ]
    }
   ],
   "source": [
    "print(A@I)\n",
    "print('\\n', I@A)\n",
    "print(np.all(A@I))\n",
    "print(np.all(np.array([[1,0,1],[1,1,1],[1,1,1]])))\n",
    "print(np.all(A@I == I@A))"
   ]
  },
  {
   "cell_type": "markdown",
   "metadata": {},
   "source": [
    "**DIAGONAL MATRIX**\n",
    "\n",
    "Notice: What does **A.D** do compared with **D.A** ??"
   ]
  },
  {
   "cell_type": "code",
   "execution_count": 43,
   "metadata": {},
   "outputs": [
    {
     "name": "stdout",
     "output_type": "stream",
     "text": [
      "[[2 0 0 0 0]\n",
      " [0 1 0 0 0]\n",
      " [0 0 1 0 0]\n",
      " [0 0 0 0 0]\n",
      " [0 0 0 0 3]]\n"
     ]
    }
   ],
   "source": [
    "D = np.diag([2,1,1,0,3])\n",
    "print(D)"
   ]
  },
  {
   "cell_type": "code",
   "execution_count": 44,
   "metadata": {},
   "outputs": [
    {
     "name": "stdout",
     "output_type": "stream",
     "text": [
      "[[ 0  1  2  3  4]\n",
      " [ 5  6  7  8  9]\n",
      " [10 11 12 13 14]\n",
      " [15 16 17 18 19]\n",
      " [20 21 22 23 24]] \n",
      "\n",
      "[[ 0  1  2  0 12]\n",
      " [10  6  7  0 27]\n",
      " [20 11 12  0 42]\n",
      " [30 16 17  0 57]\n",
      " [40 21 22  0 72]] \n",
      "\n",
      "[[ 0  2  4  6  8]\n",
      " [ 5  6  7  8  9]\n",
      " [10 11 12 13 14]\n",
      " [ 0  0  0  0  0]\n",
      " [60 63 66 69 72]] \n",
      "\n"
     ]
    }
   ],
   "source": [
    "A = np.array(range(25)).reshape(5,5)\n",
    "\n",
    "print(A, '\\n')\n",
    "print(A@D, '\\n')\n",
    "print(D@A, '\\n')"
   ]
  },
  {
   "cell_type": "code",
   "execution_count": 46,
   "metadata": {},
   "outputs": [
    {
     "name": "stdout",
     "output_type": "stream",
     "text": [
      "[[ 0  1  2  3  4]\n",
      " [ 5  6  7  8  9]\n",
      " [10 11 12 13 14]\n",
      " [15 16 17 18 19]\n",
      " [20 21 22 23 24]] \n",
      "\n",
      "[[ 0  1  2  3  4]\n",
      " [ 5  6  7  8  9]\n",
      " [10 11 12 13 14]\n",
      " [15 16 17 18 99]\n",
      " [20 21 22 23 24]]\n"
     ]
    }
   ],
   "source": [
    "A = np.array(range(25)).reshape(5,5)\n",
    "print(A, '\\n')\n",
    "A[3,4] = 99\n",
    "print(A)"
   ]
  },
  {
   "cell_type": "markdown",
   "metadata": {
    "tags": []
   },
   "source": [
    "## Presenting different parts of a matrix\n",
    "\n",
    "### MANIPULATION of ROWS and COLUMNS of a matrix in Python\n",
    "\n",
    "****These are important to know how to do!!!****"
   ]
  },
  {
   "cell_type": "code",
   "execution_count": null,
   "metadata": {},
   "outputs": [],
   "source": []
  },
  {
   "cell_type": "code",
   "execution_count": null,
   "metadata": {},
   "outputs": [],
   "source": []
  },
  {
   "cell_type": "code",
   "execution_count": null,
   "metadata": {},
   "outputs": [
    {
     "name": "stdout",
     "output_type": "stream",
     "text": [
      "(4, 4)\n"
     ]
    }
   ],
   "source": [
    "# Show the size of a matrix\n",
    "\n",
    "A = np.array([\n",
    "    [ 2. ,  7. ,  1. ,  8. ],\n",
    "    [ 1. ,  5.5,  8.5,  5. ],\n",
    "    [ 0. ,  1. , 12. ,  2.5],\n",
    "    [-1. , -4.5, -4.5,  3.5]])\n",
    "\n",
    "print(A.shape)"
   ]
  },
  {
   "cell_type": "code",
   "execution_count": 47,
   "metadata": {},
   "outputs": [
    {
     "name": "stdout",
     "output_type": "stream",
     "text": [
      "11\n",
      "11\n"
     ]
    }
   ],
   "source": [
    "# Single element that's in row 2, column 1\n",
    "\n",
    "print(A[2, 1])\n",
    "print(A[2][1])"
   ]
  },
  {
   "cell_type": "code",
   "execution_count": null,
   "metadata": {},
   "outputs": [
    {
     "name": "stdout",
     "output_type": "stream",
     "text": [
      "[[2.  7.  1.  8. ]\n",
      " [1.  5.5 8.5 5. ]]\n"
     ]
    }
   ],
   "source": [
    "# Show all rows up to, but not including, row 2\n",
    "\n",
    "print(A[ : 2])"
   ]
  },
  {
   "cell_type": "code",
   "execution_count": null,
   "metadata": {},
   "outputs": [
    {
     "name": "stdout",
     "output_type": "stream",
     "text": [
      "[[ 0.   1.  12.   2.5]\n",
      " [-1.  -4.5 -4.5  3.5]]\n"
     ]
    }
   ],
   "source": [
    "# Show all rows starting from row 2 up until the end\n",
    "\n",
    "print(A[2 : ])"
   ]
  },
  {
   "cell_type": "code",
   "execution_count": null,
   "metadata": {},
   "outputs": [
    {
     "name": "stdout",
     "output_type": "stream",
     "text": [
      "[[ 1.   5.5  8.5  5. ]\n",
      " [ 0.   1.  12.   2.5]]\n"
     ]
    }
   ],
   "source": [
    "# Show rows in some range [a:b], which means start at a, end at just before b\n",
    "# aka  [a, b) in mathematical language...\n",
    "\n",
    "print(A[1 : 3])"
   ]
  },
  {
   "cell_type": "code",
   "execution_count": null,
   "metadata": {},
   "outputs": [
    {
     "name": "stdout",
     "output_type": "stream",
     "text": [
      "[ 0.   1.  12.   2.5]\n"
     ]
    }
   ],
   "source": [
    "# General: show row n and all columns of it\n",
    "\n",
    "print(A[2, :])"
   ]
  },
  {
   "cell_type": "code",
   "execution_count": 51,
   "metadata": {},
   "outputs": [
    {
     "name": "stdout",
     "output_type": "stream",
     "text": [
      "[[ 0  1  2  3  4]\n",
      " [ 5  6  7  8  9]\n",
      " [10 11 12 13 14]\n",
      " [15 16 17 18 99]\n",
      " [20 21 22 23 24]]\n",
      "[ 2  7 12 17 22]\n",
      "[[ 1  2]\n",
      " [ 6  7]\n",
      " [11 12]\n",
      " [16 17]\n",
      " [21 22]]\n"
     ]
    }
   ],
   "source": [
    "# General: show column m and all rows of it\n",
    "print(A)\n",
    "print(A[:, 2])\n",
    "print(A[:,1:3])"
   ]
  },
  {
   "cell_type": "code",
   "execution_count": null,
   "metadata": {},
   "outputs": [
    {
     "name": "stdout",
     "output_type": "stream",
     "text": [
      "[[ 5.5  8.5]\n",
      " [ 1.  12. ]]\n"
     ]
    }
   ],
   "source": [
    "# Show some range of rows, some range of columns:\n",
    "\n",
    "print( A[ 1:3, 1:3] ) \n"
   ]
  },
  {
   "cell_type": "markdown",
   "metadata": {},
   "source": [
    "### Demonstrating how to change the row, column order in a matrix"
   ]
  },
  {
   "cell_type": "code",
   "execution_count": 57,
   "metadata": {},
   "outputs": [
    {
     "name": "stdout",
     "output_type": "stream",
     "text": [
      "A =\n",
      " [[ 1  2  3  4]\n",
      " [ 5  6  7  8]\n",
      " [ 9 10 11 12]\n",
      " [13 14 15 16]] \n",
      "\n",
      "B =\n",
      " [[ 5  6  7  8]\n",
      " [ 1  2  3  4]\n",
      " [ 9 10 11 12]\n",
      " [13 14 15 16]] \n",
      "\n"
     ]
    }
   ],
   "source": [
    "# Changing the row order by using an 'indexed' permutation vector\n",
    "A = np.array([\n",
    "    [1,2,3,4],\n",
    "    [5,6,7,8],\n",
    "    [9,10,11,12],\n",
    "    [13,14,15,16]\n",
    "])\n",
    "B = A[ [1,0,2,3] , :]\n",
    "print(\"A =\\n\", A, '\\n')\n",
    "print(\"B =\\n\", B, '\\n')"
   ]
  },
  {
   "cell_type": "code",
   "execution_count": null,
   "metadata": {},
   "outputs": [
    {
     "name": "stdout",
     "output_type": "stream",
     "text": [
      "A =\n",
      " [[ 2.   7.   1.   8. ]\n",
      " [ 1.   5.5  8.5  5. ]\n",
      " [ 0.   1.  12.   2.5]\n",
      " [-1.  -4.5 -4.5  3.5]] \n",
      "\n",
      "B =\n",
      " [[ 7.   2.   1.   8. ]\n",
      " [ 5.5  1.   8.5  5. ]\n",
      " [ 1.   0.  12.   2.5]\n",
      " [-4.5 -1.  -4.5  3.5]] \n",
      "\n"
     ]
    }
   ],
   "source": [
    "# Changing the column order\n",
    "B = A[:, [1,0,2,3]]\n",
    "print(\"A =\\n\", A, '\\n')\n",
    "print(\"B =\\n\", B, '\\n')"
   ]
  },
  {
   "cell_type": "markdown",
   "metadata": {},
   "source": [
    "**PERMUTATION MATRIX**\n",
    "\n",
    "*Demonstrating the .permutation() function and its use in rearraning row order in a matrix*"
   ]
  },
  {
   "cell_type": "code",
   "execution_count": 61,
   "metadata": {},
   "outputs": [
    {
     "name": "stdout",
     "output_type": "stream",
     "text": [
      "[[ 0  1  2  3  4]\n",
      " [ 5  6  7  8  9]\n",
      " [10 11 12 13 14]\n",
      " [15 16 17 18 19]\n",
      " [20 21 22 23 24]]\n"
     ]
    }
   ],
   "source": [
    "A = np.array(range(25)).reshape(5,5)\n",
    "print(A)"
   ]
  },
  {
   "cell_type": "code",
   "execution_count": 62,
   "metadata": {},
   "outputs": [
    {
     "name": "stdout",
     "output_type": "stream",
     "text": [
      "[[1 0 0 0 0]\n",
      " [0 0 0 0 1]\n",
      " [0 0 1 0 0]\n",
      " [0 1 0 0 0]\n",
      " [0 0 0 1 0]]\n"
     ]
    }
   ],
   "source": [
    "P = np.array([[1,0,0,0,0], [0,0,0,0,1], [0,0,1,0,0], [0,1,0,0,0], [0,0,0,1,0]])\n",
    "print(P)\n",
    "\n",
    "# P is called a Permutation Matrix"
   ]
  },
  {
   "cell_type": "code",
   "execution_count": 63,
   "metadata": {},
   "outputs": [
    {
     "name": "stdout",
     "output_type": "stream",
     "text": [
      "[[ 0  3  2  4  1]\n",
      " [ 5  8  7  9  6]\n",
      " [10 13 12 14 11]\n",
      " [15 18 17 19 16]\n",
      " [20 23 22 24 21]] \n",
      "\n",
      "[[ 0  1  2  3  4]\n",
      " [20 21 22 23 24]\n",
      " [10 11 12 13 14]\n",
      " [ 5  6  7  8  9]\n",
      " [15 16 17 18 19]]\n"
     ]
    }
   ],
   "source": [
    "print(A@P, '\\n')\n",
    "print(P@A)"
   ]
  },
  {
   "cell_type": "code",
   "execution_count": null,
   "metadata": {},
   "outputs": [
    {
     "name": "stdout",
     "output_type": "stream",
     "text": [
      "[0 2 3 1 4]\n"
     ]
    }
   ],
   "source": [
    "# Create a 'indexed' permutation vector\n",
    "\n",
    "P = np.random.permutation(5)\n",
    "print(P)"
   ]
  },
  {
   "cell_type": "code",
   "execution_count": null,
   "metadata": {},
   "outputs": [
    {
     "name": "stdout",
     "output_type": "stream",
     "text": [
      "[2 0 4 1 3] \n",
      "\n",
      "[[0. 0. 1. 0. 0.]\n",
      " [1. 0. 0. 0. 0.]\n",
      " [0. 0. 0. 0. 1.]\n",
      " [0. 1. 0. 0. 0.]\n",
      " [0. 0. 0. 1. 0.]] \n",
      "\n",
      "[[0. 1. 0. 0. 0.]\n",
      " [0. 0. 0. 1. 0.]\n",
      " [1. 0. 0. 0. 0.]\n",
      " [0. 0. 0. 0. 1.]\n",
      " [0. 0. 1. 0. 0.]]\n"
     ]
    }
   ],
   "source": [
    "vec = np.random.permutation(5)\n",
    "I = np.eye(5)\n",
    "\n",
    "print(vec, \"\\n\")\n",
    "P1 = I[vec, :]\n",
    "print(P1, '\\n')\n",
    "\n",
    "P2 = I[:, vec]\n",
    "print(P2)\n"
   ]
  },
  {
   "cell_type": "markdown",
   "metadata": {},
   "source": [
    "**TRANSPOSE operation**"
   ]
  },
  {
   "cell_type": "code",
   "execution_count": null,
   "metadata": {},
   "outputs": [],
   "source": [
    "print(A, '\\n')\n",
    "\n",
    "# Transpose of A   A^T\n",
    "print(A.T)"
   ]
  },
  {
   "cell_type": "markdown",
   "metadata": {},
   "source": [
    "### Inverse Matricies"
   ]
  },
  {
   "cell_type": "code",
   "execution_count": 65,
   "metadata": {},
   "outputs": [
    {
     "name": "stdout",
     "output_type": "stream",
     "text": [
      "[[ 2 -1]\n",
      " [-1  2]]\n"
     ]
    }
   ],
   "source": [
    "# Matrix A as shown in the lecture\n",
    "A = np.array([[2, -1], [-1, 2]])\n",
    "print(A)"
   ]
  },
  {
   "cell_type": "markdown",
   "metadata": {},
   "source": [
    "**Remember:** If the det(A) is zero, then you cannot find an inverse matrix A^-1"
   ]
  },
  {
   "cell_type": "code",
   "execution_count": 66,
   "metadata": {},
   "outputs": [
    {
     "name": "stdout",
     "output_type": "stream",
     "text": [
      "2.9999999999999996\n"
     ]
    }
   ],
   "source": [
    "detA = npla.det(A)\n",
    "print(detA)"
   ]
  },
  {
   "cell_type": "code",
   "execution_count": 67,
   "metadata": {},
   "outputs": [
    {
     "name": "stdout",
     "output_type": "stream",
     "text": [
      "Inverse of matrix A =\n",
      " [[0.66666667 0.33333333]\n",
      " [0.33333333 0.66666667]]\n"
     ]
    }
   ],
   "source": [
    "Ainv = npla.inv(A)\n",
    "print(\"Inverse of matrix A =\\n\", Ainv)"
   ]
  },
  {
   "cell_type": "markdown",
   "metadata": {},
   "source": [
    "*Let's verify that that is indeed the inverse of matrix A* by multiplying AA^-1 (what do we expect??)"
   ]
  },
  {
   "cell_type": "code",
   "execution_count": 68,
   "metadata": {},
   "outputs": [
    {
     "name": "stdout",
     "output_type": "stream",
     "text": [
      "[[1. 0.]\n",
      " [0. 1.]] \n",
      "\n",
      "\n",
      "[[1. 0.]\n",
      " [0. 1.]]\n"
     ]
    }
   ],
   "source": [
    "print( A@Ainv, \"\\n\\n\" )\n",
    "print( Ainv@A )"
   ]
  },
  {
   "cell_type": "markdown",
   "metadata": {},
   "source": [
    "*That checks out... Now, let's look at another matrix B...*"
   ]
  },
  {
   "cell_type": "code",
   "execution_count": 69,
   "metadata": {},
   "outputs": [
    {
     "name": "stdout",
     "output_type": "stream",
     "text": [
      "[[ 2 -1]\n",
      " [-2  1]] \n",
      "\n",
      "det(B) =  0.0\n"
     ]
    }
   ],
   "source": [
    "# What's the deal with matrix B?!\n",
    "B = np.array([[2, -1], [-2, 1]])\n",
    "print(B, \"\\n\")\n",
    "\n",
    "detB = npla.det(B)\n",
    "print(\"det(B) = \", detB)"
   ]
  },
  {
   "cell_type": "markdown",
   "metadata": {},
   "source": [
    "*Since the determinate of B came out to be zero, it means B is a **singular** matrix*\n",
    "\n",
    "Singular matrices cannot be inverted."
   ]
  },
  {
   "cell_type": "code",
   "execution_count": 70,
   "metadata": {},
   "outputs": [
    {
     "ename": "LinAlgError",
     "evalue": "Singular matrix",
     "output_type": "error",
     "traceback": [
      "\u001b[1;31m---------------------------------------------------------------------------\u001b[0m",
      "\u001b[1;31mLinAlgError\u001b[0m                               Traceback (most recent call last)",
      "Cell \u001b[1;32mIn[70], line 1\u001b[0m\n\u001b[1;32m----> 1\u001b[0m Binv \u001b[39m=\u001b[39m npla\u001b[39m.\u001b[39;49minv(B)\n",
      "File \u001b[1;32m<__array_function__ internals>:180\u001b[0m, in \u001b[0;36minv\u001b[1;34m(*args, **kwargs)\u001b[0m\n",
      "File \u001b[1;32mc:\\anaconda\\lib\\site-packages\\numpy\\linalg\\linalg.py:552\u001b[0m, in \u001b[0;36minv\u001b[1;34m(a)\u001b[0m\n\u001b[0;32m    550\u001b[0m signature \u001b[39m=\u001b[39m \u001b[39m'\u001b[39m\u001b[39mD->D\u001b[39m\u001b[39m'\u001b[39m \u001b[39mif\u001b[39;00m isComplexType(t) \u001b[39melse\u001b[39;00m \u001b[39m'\u001b[39m\u001b[39md->d\u001b[39m\u001b[39m'\u001b[39m\n\u001b[0;32m    551\u001b[0m extobj \u001b[39m=\u001b[39m get_linalg_error_extobj(_raise_linalgerror_singular)\n\u001b[1;32m--> 552\u001b[0m ainv \u001b[39m=\u001b[39m _umath_linalg\u001b[39m.\u001b[39;49minv(a, signature\u001b[39m=\u001b[39;49msignature, extobj\u001b[39m=\u001b[39;49mextobj)\n\u001b[0;32m    553\u001b[0m \u001b[39mreturn\u001b[39;00m wrap(ainv\u001b[39m.\u001b[39mastype(result_t, copy\u001b[39m=\u001b[39m\u001b[39mFalse\u001b[39;00m))\n",
      "File \u001b[1;32mc:\\anaconda\\lib\\site-packages\\numpy\\linalg\\linalg.py:89\u001b[0m, in \u001b[0;36m_raise_linalgerror_singular\u001b[1;34m(err, flag)\u001b[0m\n\u001b[0;32m     88\u001b[0m \u001b[39mdef\u001b[39;00m \u001b[39m_raise_linalgerror_singular\u001b[39m(err, flag):\n\u001b[1;32m---> 89\u001b[0m     \u001b[39mraise\u001b[39;00m LinAlgError(\u001b[39m\"\u001b[39m\u001b[39mSingular matrix\u001b[39m\u001b[39m\"\u001b[39m)\n",
      "\u001b[1;31mLinAlgError\u001b[0m: Singular matrix"
     ]
    }
   ],
   "source": [
    "Binv = npla.inv(B)"
   ]
  },
  {
   "cell_type": "markdown",
   "metadata": {},
   "source": [
    "*What about these 2 matrix examples?*"
   ]
  },
  {
   "cell_type": "code",
   "execution_count": 71,
   "metadata": {},
   "outputs": [
    {
     "name": "stdout",
     "output_type": "stream",
     "text": [
      "[[1 0 1]\n",
      " [2 1 1]\n",
      " [4 3 1]] \n",
      "\n",
      "0.0\n",
      "2\n"
     ]
    }
   ],
   "source": [
    "M = np.array( [ [1, -1, 2], [2, 1, 0], [-3, 3, -6] ] )\n",
    "M = np.array( [ [1, 0, 1], [2, 1, 1], [4, 3, 1] ] )\n",
    "\n",
    "print(M, '\\n')\n",
    "detM = npla.det(M)\n",
    "print(detM)\n",
    "print(npla.matrix_rank(M))"
   ]
  }
 ],
 "metadata": {
  "interpreter": {
   "hash": "138833874f2dc7c1a2fe589d9c55b0aff635bc609cbe7c4d1d123c8b54c76836"
  },
  "kernelspec": {
   "display_name": "Python 3.10.9 ('base')",
   "language": "python",
   "name": "python3"
  },
  "language_info": {
   "codemirror_mode": {
    "name": "ipython",
    "version": 3
   },
   "file_extension": ".py",
   "mimetype": "text/x-python",
   "name": "python",
   "nbconvert_exporter": "python",
   "pygments_lexer": "ipython3",
   "version": "3.10.9"
  }
 },
 "nbformat": 4,
 "nbformat_minor": 4
}
