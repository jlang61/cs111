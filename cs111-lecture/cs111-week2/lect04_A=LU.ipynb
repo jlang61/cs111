{
 "cells": [
  {
   "cell_type": "markdown",
   "metadata": {},
   "source": [
    "# CS111 Lecture 4\n",
    "## Spring 2023, Z. Matni\n",
    "\n",
    "## `A = LU` Factorization with PIVOTING\n",
    "\n",
    "### Again, we'll start off by importing numpy and the linear algebra class (linalg) from numpy"
   ]
  },
  {
   "cell_type": "code",
   "execution_count": 9,
   "metadata": {
    "scrolled": true
   },
   "outputs": [],
   "source": [
    "import numpy as np\n",
    "import numpy.linalg as npla"
   ]
  },
  {
   "cell_type": "markdown",
   "metadata": {},
   "source": [
    "### Back to LU Factorization...!"
   ]
  },
  {
   "cell_type": "code",
   "execution_count": 10,
   "metadata": {},
   "outputs": [],
   "source": [
    "def LUfactorNoPiv(A):\n",
    "    \"\"\"Factor a square matrix, A == L @ U (no partial pivoting)\n",
    "    Parameters: \n",
    "      A: the matrix.\n",
    "    Outputs (in order):\n",
    "      L: the lower triangular factor, same dimensions as A, with ones on the diagonal\n",
    "      U: the upper triangular factor, same dimensions as A\n",
    "    \"\"\"\n",
    "    \n",
    "    # Check the input - matrix A has to be square\n",
    "    m, n = A.shape\n",
    "    assert m == n, 'input matrix A must be square'\n",
    "    \n",
    "    # Make a copy of the matrix that we will transform into L and U\n",
    "    # This is to ensure we can operate with floating-point numbers \n",
    "    LU = A.astype(np.float64).copy()\n",
    "    \n",
    "    # Go through the algorithm:\n",
    "    # Eliminate each column in turn\n",
    "    for piv_col in range(n):\n",
    "            \n",
    "        # Update the rest of the matrix\n",
    "        # This routine creates a combination of the L and U matrices in one matrix (called LU here)\n",
    "        # Then L and U are separated from LU\n",
    "        pivot = LU[piv_col, piv_col]\n",
    "        assert pivot != 0., \"pivot is zero, can't continue\"\n",
    "        \n",
    "        for row in range(piv_col + 1, n):\n",
    "            multiplier = LU[row, piv_col] / pivot\n",
    "            LU[row, piv_col] = multiplier\n",
    "            LU[row, (piv_col+1):] -= multiplier * LU[piv_col, (piv_col+1):]\n",
    "            \n",
    "    # Separate L and U in the result\n",
    "    # .triu() makes the lower-triangle half of a matrix all zeros\n",
    "    U = np.triu(LU)\n",
    "    L = LU - U + np.eye(n)\n",
    "        \n",
    "    return (L, U)"
   ]
  },
  {
   "cell_type": "code",
   "execution_count": 11,
   "metadata": {},
   "outputs": [
    {
     "name": "stdout",
     "output_type": "stream",
     "text": [
      "\n",
      "A\n",
      " [[ 1  2  3]\n",
      " [ 1  1  1]\n",
      " [-1  1  2]] \n",
      "\n",
      "L\n",
      " [[ 1.  0.  0.]\n",
      " [ 1.  1.  0.]\n",
      " [-1. -3.  1.]] \n",
      "\n",
      "U\n",
      " [[ 1.  2.  3.]\n",
      " [ 0. -1. -2.]\n",
      " [ 0.  0. -1.]]\n"
     ]
    }
   ],
   "source": [
    "A = np.array([\n",
    "    [ 2. ,  7. ,  1. ,  8. ],\n",
    "    [ 1. ,  5.5,  8.5,  5. ],\n",
    "    [ 0. ,  1. , 12. ,  2.5],\n",
    "    [-1. , -4.5, -4.5,  3.5]])\n",
    "\n",
    "#Alternative to try:\n",
    "A = np.array([[1, 2, 3], [1,1,1], [-1,1,2]])\n",
    "\n",
    "L,U = LUfactorNoPiv(A)\n",
    "print(\"\\nA\\n\", A, \"\\n\\nL\\n\", L, \"\\n\\nU\\n\", U)"
   ]
  },
  {
   "cell_type": "code",
   "execution_count": 12,
   "metadata": {},
   "outputs": [
    {
     "name": "stdout",
     "output_type": "stream",
     "text": [
      "\n",
      "A\n",
      " [[5 3 3]\n",
      " [3 5 3]\n",
      " [3 3 5]] \n",
      "\n",
      "L\n",
      " [[1.    0.    0.   ]\n",
      " [0.6   1.    0.   ]\n",
      " [0.6   0.375 1.   ]] \n",
      "\n",
      "U\n",
      " [[5.   3.   3.  ]\n",
      " [0.   3.2  1.2 ]\n",
      " [0.   0.   2.75]]\n",
      "[[8.6     4.125   3.     ]\n",
      " [2.64    3.65    1.2    ]\n",
      " [1.65    1.03125 2.75   ]]\n",
      "[[5. 3. 3.]\n",
      " [3. 5. 3.]\n",
      " [3. 3. 5.]]\n"
     ]
    }
   ],
   "source": [
    "import numpy as np\n",
    "A = np.array([[5,3,3],[3,5,3],[3,3,5]])\n",
    "L,U = LUfactorNoPiv(A)\n",
    "print(\"\\nA\\n\", A, \"\\n\\nL\\n\", L, \"\\n\\nU\\n\", U)\n",
    "print(U @L)\n",
    "print(L @ U)"
   ]
  },
  {
   "cell_type": "markdown",
   "metadata": {},
   "source": [
    "*Note how the results of the 4x4 compare perfectly to the manual calculation we had done earlier in lecture.*\n",
    "\n",
    "*Let's try it with a \"special case\" where the pivot A[0,0] = 0*"
   ]
  },
  {
   "cell_type": "code",
   "execution_count": 13,
   "metadata": {},
   "outputs": [
    {
     "name": "stdout",
     "output_type": "stream",
     "text": [
      "[[0 1]\n",
      " [1 2]]\n",
      "-1.0\n"
     ]
    }
   ],
   "source": [
    "# LU factorization (without pivoting) fails if it encounters a zero pivot\n",
    "\n",
    "A = np.array([[0, 1], [1, 2]])\n",
    "print(A)\n",
    "print( npla.det(A) )"
   ]
  },
  {
   "cell_type": "code",
   "execution_count": 14,
   "metadata": {},
   "outputs": [
    {
     "ename": "AssertionError",
     "evalue": "pivot is zero, can't continue",
     "output_type": "error",
     "traceback": [
      "\u001b[1;31m---------------------------------------------------------------------------\u001b[0m",
      "\u001b[1;31mAssertionError\u001b[0m                            Traceback (most recent call last)",
      "Cell \u001b[1;32mIn[14], line 2\u001b[0m\n\u001b[0;32m      1\u001b[0m \u001b[39m# So, matrix A is NOT singular - let's try to factor it into L and U:\u001b[39;00m\n\u001b[1;32m----> 2\u001b[0m L,U \u001b[39m=\u001b[39m LUfactorNoPiv(A)\n",
      "Cell \u001b[1;32mIn[10], line 26\u001b[0m, in \u001b[0;36mLUfactorNoPiv\u001b[1;34m(A)\u001b[0m\n\u001b[0;32m     20\u001b[0m \u001b[39mfor\u001b[39;00m piv_col \u001b[39min\u001b[39;00m \u001b[39mrange\u001b[39m(n):\n\u001b[0;32m     21\u001b[0m         \n\u001b[0;32m     22\u001b[0m     \u001b[39m# Update the rest of the matrix\u001b[39;00m\n\u001b[0;32m     23\u001b[0m     \u001b[39m# This routine creates a combination of the L and U matrices in one matrix (called LU here)\u001b[39;00m\n\u001b[0;32m     24\u001b[0m     \u001b[39m# Then L and U are separated from LU\u001b[39;00m\n\u001b[0;32m     25\u001b[0m     pivot \u001b[39m=\u001b[39m LU[piv_col, piv_col]\n\u001b[1;32m---> 26\u001b[0m     \u001b[39massert\u001b[39;00m pivot \u001b[39m!=\u001b[39m \u001b[39m0.\u001b[39m, \u001b[39m\"\u001b[39m\u001b[39mpivot is zero, can\u001b[39m\u001b[39m'\u001b[39m\u001b[39mt continue\u001b[39m\u001b[39m\"\u001b[39m\n\u001b[0;32m     28\u001b[0m     \u001b[39mfor\u001b[39;00m row \u001b[39min\u001b[39;00m \u001b[39mrange\u001b[39m(piv_col \u001b[39m+\u001b[39m \u001b[39m1\u001b[39m, n):\n\u001b[0;32m     29\u001b[0m         multiplier \u001b[39m=\u001b[39m LU[row, piv_col] \u001b[39m/\u001b[39m pivot\n",
      "\u001b[1;31mAssertionError\u001b[0m: pivot is zero, can't continue"
     ]
    }
   ],
   "source": [
    "# So, matrix A is NOT singular - let's try to factor it into L and U:\n",
    "L,U = LUfactorNoPiv(A)"
   ]
  },
  {
   "cell_type": "markdown",
   "metadata": {},
   "source": [
    "### We need to edit our function to deal with these cases!!\n",
    "\n",
    "*We need to ammend our `LUfactorNoPiv()` function to a more general `LUfactor()` function*\n",
    "\n",
    "*Please review this code carefully to understand the role of permuation matrices in pivoting*\n"
   ]
  },
  {
   "cell_type": "code",
   "execution_count": 15,
   "metadata": {},
   "outputs": [],
   "source": [
    "def LUfactor(A, pivoting = True):\n",
    "    \"\"\"Factor a square matrix with partial pivoting, A[p,:] == L @ U\n",
    "    Parameters: \n",
    "      A: the matrix.\n",
    "      pivoting: whether or not to do partial pivoting\n",
    "    Outputs (in order):\n",
    "      L: the lower triangular factor, same dimensions as A, with ones on the diagonal\n",
    "      U: the upper triangular factor, same dimensions as A\n",
    "      p: the permutation vector that permutes the rows of A by partial pivoting\n",
    "    \"\"\"\n",
    "    \n",
    "    # Check the input\n",
    "    m, n = A.shape\n",
    "    assert m == n, 'input matrix A must be square'\n",
    "    \n",
    "    # Initialize p to be the identity permutation\n",
    "    p = np.array(range(n))\n",
    "    \n",
    "    # Make a copy of the matrix that we will transform into L and U\n",
    "    LU = A.astype(np.float64).copy()\n",
    "    \n",
    "    # Eliminate each column in turn\n",
    "    for piv_col in range(n):\n",
    "     \n",
    "        # Choose the pivot row and swap it into place\n",
    "        if pivoting:\n",
    "            piv_row = piv_col + np.argmax(np.abs(LU[piv_col:, piv_col]))   # Added np.abs() to fix bug\n",
    "            assert LU[piv_row, piv_col] != 0., \"can't find nonzero pivot, matrix is singular\"\n",
    "            # print(\"Before:\")\n",
    "            # print(LU)\n",
    "\n",
    "            LU[[piv_col, piv_row], :]  = LU[[piv_row, piv_col], :]\n",
    "            p[ [piv_col, piv_row] ]      = p[[piv_row, piv_col]]\n",
    "            \n",
    "            # print(\"After: \")\n",
    "            # print(LU)\n",
    "        # Update the rest of the matrix\n",
    "        pivot = LU[piv_col, piv_col]\n",
    "        assert pivot != 0., \"pivot is zero, can't continue\"\n",
    "        \n",
    "        # This is the standard \"core\" of the algorithm (same as in LUfactorNoPiv)\n",
    "        for row in range(piv_col + 1, n):\n",
    "            multiplier = LU[row, piv_col] / pivot\n",
    "            LU[row, piv_col] = multiplier\n",
    "            LU[row, (piv_col+1):] -= multiplier * LU[piv_col, (piv_col+1):]\n",
    "            # print(\"Did add on row: \" + str(row) + \"Column: \" + str(piv_col))\n",
    "            \n",
    "    # Separate L and U in the result\n",
    "    U = np.triu(LU)\n",
    "    L = LU - U + np.eye(n)\n",
    "    \n",
    "    # This will return the L, U, AS WELL AS p (the permutation vector).\n",
    "    return (L, U, p)"
   ]
  },
  {
   "cell_type": "code",
   "execution_count": null,
   "metadata": {},
   "outputs": [
    {
     "name": "stdout",
     "output_type": "stream",
     "text": [
      "[[2. 2. 3.]\n",
      " [2. 2. 5.]\n",
      " [3. 5. 2.]]\n",
      "-7.999999999999998\n",
      "[ 8.83908632  0.28930841 -3.12839474]\n"
     ]
    }
   ],
   "source": [
    "A = np.array([\n",
    "    [ 1. , 0. , 0. ],   # Note: I changed the first element to zero for this demo\n",
    "    [ 2. , 1. , 0. ],\n",
    "    [ 3. , 5. , 1. ]]) \n",
    "\n",
    "A = A + A.T\n",
    "print(A)\n",
    "print(npla.det(A))\n",
    "\n",
    "d,v = npla.eig(A)\n",
    "print(d)\n",
    "\n"
   ]
  },
  {
   "cell_type": "code",
   "execution_count": null,
   "metadata": {},
   "outputs": [
    {
     "name": "stdout",
     "output_type": "stream",
     "text": [
      "\n",
      "A\n",
      " [[ 0.   7.   1.   8. ]\n",
      " [ 1.   5.5  8.5  5. ]\n",
      " [ 0.   1.  12.   2.5]\n",
      " [-1.  -4.5 -4.5  3.5]] \n",
      "\n",
      "L\n",
      " [[ 1.          0.          0.          0.        ]\n",
      " [ 0.          1.          0.          0.        ]\n",
      " [ 0.          0.14285714  1.          0.        ]\n",
      " [-1.          0.14285714  0.3253012   1.        ]] \n",
      "\n",
      "U\n",
      " [[ 1.          5.5         8.5         5.        ]\n",
      " [ 0.          7.          1.          8.        ]\n",
      " [ 0.          0.         11.85714286  1.35714286]\n",
      " [ 0.          0.          0.          6.91566265]] \n",
      "\n",
      "p\n",
      " [1 0 2 3]\n"
     ]
    }
   ],
   "source": [
    "A = np.array([\n",
    "    [ 0. ,  7. ,  1. ,  8. ],   # Note: I changed the first element to zero for this demo\n",
    "    [ 1. ,  5.5,  8.5,  5. ],\n",
    "    [ 0. ,  1. , 12. ,  2.5],\n",
    "    [-1. , -4.5, -4.5,  3.5]]) \n",
    "\n",
    "#L,U = LUfactorNoPiv(A)\n",
    "#print(\"\\nA\\n\", A, \"\\n\\nL\\n\", L, \"\\n\\nU\\n\", U)\n",
    "\n",
    "L,U,p = LUfactor(A)\n",
    "print(\"\\nA\\n\", A, \"\\n\\nL\\n\", L, \"\\n\\nU\\n\", U, \"\\n\\np\\n\", p)"
   ]
  },
  {
   "cell_type": "code",
   "execution_count": null,
   "metadata": {},
   "outputs": [
    {
     "name": "stdout",
     "output_type": "stream",
     "text": [
      "\n",
      "A\n",
      " [[ 0  2  3]\n",
      " [ 1  1  1]\n",
      " [-1  1  0]] \n",
      "\n",
      "L\n",
      " [[ 1.  0.  0.]\n",
      " [ 0.  1.  0.]\n",
      " [-1.  1.  1.]] \n",
      "\n",
      "U\n",
      " [[ 1.  1.  1.]\n",
      " [ 0.  2.  3.]\n",
      " [ 0.  0. -2.]] \n",
      "\n",
      "p\n",
      " [1 0 2]\n"
     ]
    }
   ],
   "source": [
    "import numpy as np \n",
    "\n",
    "A = np.array([[0,2,3],[1,1,1],[-1,1,0]])\n",
    "L,U,p = LUfactor(A)\n",
    "print(\"\\nA\\n\", A, \"\\n\\nL\\n\", L, \"\\n\\nU\\n\", U, \"\\n\\np\\n\", p)"
   ]
  },
  {
   "cell_type": "markdown",
   "metadata": {},
   "source": [
    "### Using L.U Factorization to help solve Ax = b problems\n",
    "#### Assuming we have L.U, how can we solve b?\n",
    "\n",
    "Here's a function called Lsolve(L, b) that takes an L and b, and returns a vector y, such that Ly = b.\n",
    "\n",
    "y is an \"in-between\" solution for what we ultimately want (vector x). We then use y and U to give us x in *another* function called Usolve(U, b)."
   ]
  },
  {
   "cell_type": "code",
   "execution_count": 17,
   "metadata": {},
   "outputs": [],
   "source": [
    "def Lsolve(L, b):\n",
    "    \"\"\"Forward solve a unit lower triangular system Ly = b for y\n",
    "    Parameters: \n",
    "      L: the matrix, must be square, lower triangular, with ones on the diagonal\n",
    "      b: the right-hand side vector\n",
    "    Output:\n",
    "      y: the solution vector to L @ y == b\n",
    "    \"\"\"\n",
    "    \n",
    "    # Check the input\n",
    "    m, n = L.shape\n",
    "    assert m == n, \"matrix L must be square\"\n",
    "    assert np.all(np.tril(L) == L), \"matrix L must be lower triangular\"\n",
    "    assert np.all(np.diag(L) == 1), \"matrix L must have ones on the diagonal\"\n",
    "    \n",
    "    # Make a copy of b that we will transform into the solution\n",
    "    y = b.astype(np.float64).copy()\n",
    "    \n",
    "    # Forward solve\n",
    "    for col in range(n):\n",
    "        y[col+1:] -= y[col] * L[col+1:, col]\n",
    "        \n",
    "    return y"
   ]
  },
  {
   "cell_type": "markdown",
   "metadata": {},
   "source": [
    "### The following is a missing piece of this puzzle - it's also a question on your homework this week!"
   ]
  },
  {
   "cell_type": "code",
   "execution_count": 51,
   "metadata": {},
   "outputs": [],
   "source": [
    "def Usolve(U, y):\n",
    "    \"\"\"Backward solve an upper triangular system Ux = y for x\n",
    "    Parameters: \n",
    "      U: the matrix, must be square, upper triangular, with nonzeros on the diagonal\n",
    "      y: the right-hand side vector\n",
    "    Output:\n",
    "      x: the solution vector to U @ x == y\n",
    "    \"\"\"\n",
    "    m, n = U.shape\n",
    "    assert m == n, \"matrix U must be square\"\n",
    "    assert np.all(np.triu(U) == U), \"matrix U must be upper triangular\"\n",
    "    for i in range(n):\n",
    "        assert U[i][i] != 0\n",
    "    \n",
    "    x = y.astype(np.float64).copy()\n",
    "\n",
    "    for row in range(n):\n",
    "        print(x[n-row-1], \" divided by \", U[n-row-1, n-row-1] )\n",
    "        x[n-row-1] = x[n-row-1]  / U[n-row-1, n-row-1] \n",
    "        print(x[:n-row-1], \"subtracted by \",x[n-row-1] * U[:n-row-1, n-row-1] )\n",
    "        x[:n-row-1] -= x[n-row-1] * U[:n-row-1, n-row-1]\n",
    "    return x"
   ]
  },
  {
   "cell_type": "code",
   "execution_count": null,
   "metadata": {},
   "outputs": [],
   "source": [
    "def Usolve(U, y):\n",
    "    # Check the input\n",
    "    m, n = U.shape\n",
    "    assert m == n, \"matrix U must be square\"\n",
    "    assert np.all(np.triu(U) == U), \"matrix U must be upper triangular\"\n",
    "    assert np.all(np.diag(U) != 0), \"matrix U must have nonzeros on the diagonal\"\n",
    "    # Make a copy of y that we will transform into the solution\n",
    "    x = y.astype(np.float64).copy()\n",
    "    # Backward solve\n",
    "    for row in reversed(range(n)):\n",
    "        x[row] /= U[row, row]\n",
    "        x[:row] -= x[row] * U[:row, row]\n",
    "    return x\n"
   ]
  },
  {
   "cell_type": "markdown",
   "metadata": {},
   "source": [
    "### Some more examples to play with..."
   ]
  },
  {
   "cell_type": "code",
   "execution_count": null,
   "metadata": {
    "scrolled": true
   },
   "outputs": [
    {
     "name": "stdout",
     "output_type": "stream",
     "text": [
      "matrix A:\n",
      " [[ 6. 17.  0. 13. 15.]\n",
      " [17. 12. 17. 11. 12.]\n",
      " [ 8.  2.  3.  8.  5.]\n",
      " [16.  7. 11.  5. 18.]\n",
      " [ 2. 10. 13.  8. 17.]]\n",
      "\n",
      "original x: [1. 5. 5. 7. 5.]\n",
      "\n",
      "right-hand side b: [257. 299. 114. 231. 258.]\n"
     ]
    }
   ],
   "source": [
    "# A larger example of LU with partial pivoting\n",
    "\n",
    "A = np.round(20*np.random.rand(5,5))\n",
    "print('matrix A:\\n', A)\n",
    "xorig = np.round(10*np.random.rand(5))\n",
    "print('\\noriginal x:', xorig)\n",
    "b = A @ xorig\n",
    "print('\\nright-hand side b:', b)"
   ]
  },
  {
   "cell_type": "code",
   "execution_count": null,
   "metadata": {
    "scrolled": true
   },
   "outputs": [
    {
     "name": "stdout",
     "output_type": "stream",
     "text": [
      "[[ 1.          0.          0.          0.          0.        ]\n",
      " [ 0.35294118  1.          0.          0.          0.        ]\n",
      " [ 0.11764706  0.67281106  1.          0.          0.        ]\n",
      " [ 0.47058824 -0.28571429 -0.44652161  1.          0.        ]\n",
      " [ 0.94117647 -0.33640553 -0.46674839 -0.35522485  1.        ]] \n",
      "\n",
      " [[17.         12.         17.         11.         12.        ]\n",
      " [ 0.         12.76470588 -6.          9.11764706 10.76470588]\n",
      " [ 0.          0.         15.03686636  0.57142857  8.34562212]\n",
      " [ 0.          0.          0.          5.68372663  6.15507202]\n",
      " [ 0.          0.          0.          0.         16.40892915]] \n",
      "\n",
      " [1 0 4 2 3] \n",
      "\n",
      "norm of difference between L times U and permuted A: 0.0\n",
      "RELATIVE norm of difference between L times U and permuted A: 0.0\n"
     ]
    }
   ],
   "source": [
    "# Factor the larger example\n",
    "\n",
    "L, U, p = LUfactor(A)\n",
    "print(L,\"\\n\\n\",U,\"\\n\\n\",p,\"\\n\")\n",
    "\n",
    "print(\"norm of difference between L times U and permuted A:\", npla.norm( L@U - A[p,:]))\n",
    "print(\"RELATIVE norm of difference between L times U and permuted A:\", npla.norm( L@U - A[p,:])/npla.norm(A[p, :]))"
   ]
  },
  {
   "cell_type": "code",
   "execution_count": null,
   "metadata": {},
   "outputs": [
    {
     "name": "stdout",
     "output_type": "stream",
     "text": [
      "3\n",
      "2\n",
      "1\n"
     ]
    }
   ],
   "source": [
    "for r in range(3):\n",
    "    print(3-r)"
   ]
  },
  {
   "cell_type": "code",
   "execution_count": 52,
   "metadata": {
    "scrolled": true
   },
   "outputs": [
    {
     "name": "stdout",
     "output_type": "stream",
     "text": [
      "y: [3.     1.9998]\n",
      "[[1.     1.    ]\n",
      " [0.     0.9999]]\n",
      "1.9998000000000002  divided by  0.9999\n",
      "[3.] subtracted by  [2.]\n",
      "0.9999999999999996  divided by  1.0\n",
      "[] subtracted by  []\n",
      "\n",
      "x: [1. 2.]\n",
      "\n",
      "residual norm: 4.440892098500626e-16\n"
     ]
    }
   ],
   "source": [
    "# Solve with the larger example - check this after your homework is done! :)\n",
    "\n",
    "y = Lsolve(L,b[p])\n",
    "print(\"y:\", y)\n",
    "print(U)\n",
    "x = Usolve(U,y)\n",
    "print(\"\\nx:\", x)\n",
    "print(\"\\nresidual norm:\", npla.norm(b - A @ x))"
   ]
  },
  {
   "cell_type": "code",
   "execution_count": 53,
   "metadata": {},
   "outputs": [
    {
     "name": "stdout",
     "output_type": "stream",
     "text": [
      "3.0  divided by  9\n",
      "[1. 2.] subtracted by  [1. 2.]\n",
      "0.0  divided by  5\n",
      "[0.] subtracted by  [0.]\n",
      "0.0  divided by  1\n",
      "[] subtracted by  []\n",
      "[1. 2. 3.]\n",
      "[1 2 3]\n",
      "\n",
      "residual norm: 0.0\n"
     ]
    }
   ],
   "source": [
    "#Test USolve\n",
    "U = np.array([[1,2,3],[0,5,6],[0,0,9]])\n",
    "y = np.array([1,2,3])\n",
    "x = Usolve(U,y)\n",
    "print(U @ x)\n",
    "print(y)\n",
    "print(\"\\nresidual norm:\", npla.norm(y - U @ x))"
   ]
  },
  {
   "cell_type": "code",
   "execution_count": null,
   "metadata": {},
   "outputs": [
    {
     "name": "stdout",
     "output_type": "stream",
     "text": [
      "Y: [2. 1. 4.]\n",
      "U: [[ 1.  1.  1.]\n",
      " [ 0.  2.  3.]\n",
      " [ 0.  0. -2.]]\n",
      "X: [ 0.5  3.5 -2. ]\n"
     ]
    },
    {
     "ename": "NameError",
     "evalue": "name 'npla' is not defined",
     "output_type": "error",
     "traceback": [
      "\u001b[1;31m---------------------------------------------------------------------------\u001b[0m",
      "\u001b[1;31mNameError\u001b[0m                                 Traceback (most recent call last)",
      "Cell \u001b[1;32mIn[6], line 10\u001b[0m\n\u001b[0;32m      8\u001b[0m \u001b[39mprint\u001b[39m(\u001b[39m\"\u001b[39m\u001b[39mU: \u001b[39m\u001b[39m\"\u001b[39m \u001b[39m+\u001b[39m \u001b[39mstr\u001b[39m(U))\n\u001b[0;32m      9\u001b[0m \u001b[39mprint\u001b[39m(\u001b[39m\"\u001b[39m\u001b[39mX: \u001b[39m\u001b[39m\"\u001b[39m \u001b[39m+\u001b[39m \u001b[39mstr\u001b[39m(x))\n\u001b[1;32m---> 10\u001b[0m \u001b[39mprint\u001b[39m(\u001b[39m\"\u001b[39m\u001b[39m\\n\u001b[39;00m\u001b[39mresidual norm:\u001b[39m\u001b[39m\"\u001b[39m, npla\u001b[39m.\u001b[39mnorm(b \u001b[39m-\u001b[39m A \u001b[39m@\u001b[39m x))\n",
      "\u001b[1;31mNameError\u001b[0m: name 'npla' is not defined"
     ]
    }
   ],
   "source": [
    "#Test BOTH\n",
    "A = np.array([[0,2,3], [1,1,1], [-1,1,0]])\n",
    "b = np.array([1,2,3])\n",
    "L, U, p = LUfactor(A)\n",
    "y = Lsolve(L, b[p])\n",
    "print(\"Y: \" + str(y))\n",
    "x = Usolve(U, y)\n",
    "print(\"U: \" + str(U))\n",
    "print(\"X: \" + str(x))\n",
    "print(\"\\nresidual norm:\", npla.norm(b - A @ x))"
   ]
  },
  {
   "cell_type": "code",
   "execution_count": null,
   "metadata": {},
   "outputs": [],
   "source": []
  },
  {
   "cell_type": "code",
   "execution_count": 49,
   "metadata": {},
   "outputs": [
    {
     "name": "stdout",
     "output_type": "stream",
     "text": [
      "[1. 2.]\n",
      "\n",
      "relative residual norm: 0.6324555320336761\n"
     ]
    }
   ],
   "source": [
    "import numpy as np\n",
    "import numpy.linalg as npla\n",
    "t = 10**-4\n",
    "A = np.array([[t,1],[1,1]])\n",
    "b = np.array([t+2,3])\n",
    "L, U, p = LUfactor(A, True)\n",
    "y = Lsolve(L, b[p])\n",
    "x = Usolve(U, y)\n",
    "t_predict = np.array([[1],[2]])\n",
    "print(x)\n",
    "print(\"\\nrelative residual norm:\", npla.norm(t_predict - x)/npla.norm(t_predict))"
   ]
  },
  {
   "cell_type": "code",
   "execution_count": 54,
   "metadata": {},
   "outputs": [],
   "source": []
  }
 ],
 "metadata": {
  "kernelspec": {
   "display_name": "Python 3",
   "language": "python",
   "name": "python3"
  },
  "language_info": {
   "codemirror_mode": {
    "name": "ipython",
    "version": 3
   },
   "file_extension": ".py",
   "mimetype": "text/x-python",
   "name": "python",
   "nbconvert_exporter": "python",
   "pygments_lexer": "ipython3",
   "version": "3.10.9"
  }
 },
 "nbformat": 4,
 "nbformat_minor": 4
}
