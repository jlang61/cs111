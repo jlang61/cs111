{
 "cells": [
  {
   "cell_type": "code",
   "execution_count": 21,
   "metadata": {},
   "outputs": [
    {
     "name": "stdout",
     "output_type": "stream",
     "text": [
      "[[4 5 6]\n",
      " [1 2 3]\n",
      " [7 8 9]]\n",
      "[[2 1 3]\n",
      " [5 4 6]\n",
      " [8 7 9]]\n"
     ]
    }
   ],
   "source": [
    "import numpy as np \n",
    "A = np.array([[1,2,3],[4,5,6],[7,8,9]])\n",
    "P = np.array([[0,1,0],[1,0,0],[0,0,1]])\n",
    "print(P @ A)\n",
    "print(A @ P)"
   ]
  },
  {
   "cell_type": "code",
   "execution_count": 2,
   "metadata": {},
   "outputs": [
    {
     "name": "stdout",
     "output_type": "stream",
     "text": [
      "[[ 50  61  67]\n",
      " [ 91 111 122]\n",
      " [115 140 154]]\n",
      "[[ 50  91 115]\n",
      " [ 61 111 140]\n",
      " [ 67 122 154]]\n"
     ]
    }
   ],
   "source": [
    "import numpy as np \n",
    "A = np.array([[1,2,3],[2,4,5],[3,5,6]])\n",
    "B = np.array([[7,8,9],[8,10,11],[9,11,12]])\n",
    "print(A @ B)\n",
    "print(B @ A)"
   ]
  },
  {
   "cell_type": "code",
   "execution_count": 2,
   "metadata": {},
   "outputs": [
    {
     "name": "stdout",
     "output_type": "stream",
     "text": [
      "[['a' 'b' 'c']\n",
      " ['d' 'e' 'f']\n",
      " ['g' 'h' 'i']]\n",
      "[['a' 'd' 'g']\n",
      " ['b' 'e' 'h']\n",
      " ['c' 'f' 'i']]\n"
     ]
    }
   ],
   "source": [
    "import numpy as np \n",
    "M = np.array([['a','b','c'], ['d','e','f'], ['g','h','i']])\n",
    "M_t = M.T\n",
    "print(M)\n",
    "print(M_t)"
   ]
  },
  {
   "cell_type": "code",
   "execution_count": null,
   "metadata": {},
   "outputs": [],
   "source": [
    "import numpy as np\n",
    "A = np.array([[1,2,3],[2,5,6],[7]])"
   ]
  },
  {
   "cell_type": "markdown",
   "metadata": {},
   "source": []
  },
  {
   "cell_type": "code",
   "execution_count": 9,
   "metadata": {},
   "outputs": [
    {
     "name": "stdout",
     "output_type": "stream",
     "text": [
      "[[5. 3. 3.]\n",
      " [3. 5. 3.]\n",
      " [3. 3. 5.]]\n"
     ]
    }
   ],
   "source": [
    "import numpy as np \n",
    "A = np.array([[5,3,3],[3,5,3],[3,3,5]])\n",
    "U = np.array([[5,3,3],[0,3.2,1.2],[0,0,11/4]])\n",
    "L = np.array([[1,0,0],[3/5,1,0],[3/5,3/8,1]])\n",
    "print(L @ U)"
   ]
  }
 ],
 "metadata": {
  "interpreter": {
   "hash": "138833874f2dc7c1a2fe589d9c55b0aff635bc609cbe7c4d1d123c8b54c76836"
  },
  "kernelspec": {
   "display_name": "Python 3.10.9 ('base')",
   "language": "python",
   "name": "python3"
  },
  "language_info": {
   "codemirror_mode": {
    "name": "ipython",
    "version": 3
   },
   "file_extension": ".py",
   "mimetype": "text/x-python",
   "name": "python",
   "nbconvert_exporter": "python",
   "pygments_lexer": "ipython3",
   "version": "3.10.9"
  },
  "orig_nbformat": 4
 },
 "nbformat": 4,
 "nbformat_minor": 2
}
