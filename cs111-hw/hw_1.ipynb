{
 "cells": [
  {
   "cell_type": "code",
   "execution_count": 1,
   "id": "48e4d0dd",
   "metadata": {},
   "outputs": [
    {
     "name": "stdout",
     "output_type": "stream",
     "text": [
      "hello world\n"
     ]
    }
   ],
   "source": [
    "print(\"hello world\")"
   ]
  },
  {
   "cell_type": "code",
   "execution_count": 7,
   "id": "204cb815",
   "metadata": {},
   "outputs": [
    {
     "name": "stdout",
     "output_type": "stream",
     "text": [
      "[[ 3 -1  2]\n",
      " [ 0  1  2]\n",
      " [ 1  0 -1]]\n",
      "[[ 3  0  1]\n",
      " [-1  1  0]\n",
      " [ 2  2 -1]]\n"
     ]
    }
   ],
   "source": [
    "import numpy as np\n",
    "a = np.matrix('3,-1,2; 0,1,2 ; 1,0,-1')\n",
    "a_t = a.T\n",
    "print(a)\n",
    "print(a_t)\n"
   ]
  },
  {
   "cell_type": "code",
   "execution_count": 1,
   "id": "a53c3eda",
   "metadata": {},
   "outputs": [
    {
     "name": "stdout",
     "output_type": "stream",
     "text": [
      "[[2 1 3]\n",
      " [5 4 6]\n",
      " [8 7 9]]\n",
      "[[4 5 6]\n",
      " [1 2 3]\n",
      " [7 8 9]]\n"
     ]
    }
   ],
   "source": [
    "import numpy as np\n",
    "a = np.matrix('1,2,3;4,5,6;7,8,9')\n",
    "p = np.matrix('0,1,0;1,0,0;0,0,1')\n",
    "print(a@p)\n",
    "print(p@a)"
   ]
  },
  {
   "cell_type": "code",
   "execution_count": 3,
   "id": "bff7c6af",
   "metadata": {},
   "outputs": [
    {
     "name": "stdout",
     "output_type": "stream",
     "text": [
      "[[11 -4  2]\n",
      " [ 2  1  0]\n",
      " [ 2 -1  3]]\n"
     ]
    }
   ],
   "source": [
    "import numpy as np \n",
    "a = np.matrix('3,-1,2; 0,1,2 ; 1,0,-1')\n",
    "a_2 = a @ a\n",
    "print(a_2)"
   ]
  },
  {
   "cell_type": "code",
   "execution_count": 6,
   "id": "e7abda09",
   "metadata": {},
   "outputs": [
    {
     "name": "stdout",
     "output_type": "stream",
     "text": [
      "[[10 -3  5]\n",
      " [-3  2  0]\n",
      " [ 5  0  9]]\n"
     ]
    }
   ],
   "source": [
    "import numpy as np\n",
    "a = np.matrix('3,-1,2; 0,1,2 ; 1,0,-1')\n",
    "a_t = a.T\n",
    "a_ta = a_t @ a\n",
    "print(a_ta)"
   ]
  },
  {
   "cell_type": "code",
   "execution_count": 12,
   "id": "6c2e2626",
   "metadata": {},
   "outputs": [
    {
     "name": "stdout",
     "output_type": "stream",
     "text": [
      "[[ 2 -3  1]\n",
      " [ 0  2  3]\n",
      " [ 1  0  1]]\n",
      "[[1]\n",
      " [7]\n",
      " [4]]\n"
     ]
    }
   ],
   "source": [
    "import numpy as np \n",
    "A = np.array([[2,-3,1],[0,2,3],[1,0,1]])\n",
    "b = np.array([[1],[7],[4]])\n",
    "print(A)\n",
    "print(b)"
   ]
  },
  {
   "cell_type": "code",
   "execution_count": 3,
   "id": "7ec9f8d1",
   "metadata": {},
   "outputs": [
    {
     "name": "stdout",
     "output_type": "stream",
     "text": [
      "[[ 2 -3  1]\n",
      " [ 0  2  3]\n",
      " [ 1  0  1]]\n",
      "[[1]\n",
      " [7]\n",
      " [4]]\n"
     ]
    }
   ],
   "source": [
    "import numpy as np \n",
    "A = np.array([[2,-3,1],[0,2,3],[1,0,1]])\n",
    "b = np.array([[1],[7],[4]])\n",
    "print(A)\n",
    "print(b)"
   ]
  },
  {
   "cell_type": "code",
   "execution_count": 1,
   "id": "ba209044",
   "metadata": {},
   "outputs": [
    {
     "name": "stdout",
     "output_type": "stream",
     "text": [
      "[[3.]\n",
      " [2.]\n",
      " [1.]]\n"
     ]
    }
   ],
   "source": [
    "import numpy as np \n",
    "import numpy.linalg as npla\n",
    "A = np.array([[2,-3,1],[0,2,3],[1,0,1]])\n",
    "b = np.array([[1],[7],[4]])\n",
    "x = npla.solve(A,b)\n",
    "print(x)    "
   ]
  }
 ],
 "metadata": {
  "interpreter": {
   "hash": "138833874f2dc7c1a2fe589d9c55b0aff635bc609cbe7c4d1d123c8b54c76836"
  },
  "kernelspec": {
   "display_name": "Python 3.10.9 ('base')",
   "language": "python",
   "name": "python3"
  },
  "language_info": {
   "codemirror_mode": {
    "name": "ipython",
    "version": 3
   },
   "file_extension": ".py",
   "mimetype": "text/x-python",
   "name": "python",
   "nbconvert_exporter": "python",
   "pygments_lexer": "ipython3",
   "version": "3.10.9"
  }
 },
 "nbformat": 4,
 "nbformat_minor": 5
}
