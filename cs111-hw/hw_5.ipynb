{
 "cells": [
  {
   "cell_type": "code",
   "execution_count": 1,
   "metadata": {},
   "outputs": [],
   "source": [
    "import numpy as np \n",
    "import numpy.linalg as npla "
   ]
  },
  {
   "cell_type": "code",
   "execution_count": 2,
   "metadata": {},
   "outputs": [
    {
     "name": "stdout",
     "output_type": "stream",
     "text": [
      "0 : 75995000\n",
      "10 : 91972000\n",
      "20 : 105711000\n",
      "30 : 123203000\n",
      "40 : 131669000\n",
      "50 : 150697000\n",
      "60 : 179323000\n",
      "70 : 203212000\n",
      "80 : 226505000\n",
      "90 : 249633000\n",
      "100 : 281422000\n",
      "110 : 308746000\n",
      "120 : 329168000\n"
     ]
    }
   ],
   "source": [
    "date = np.array(range(1900,2030,10)) - 1900\n",
    "population = 1000 * np.array([ 75995, 91972, 105711, 123203, 131669,\n",
    "150697, 179323, 203212, 226505, 249633,\n",
    "281422, 308746, 329168])\n",
    "for (d,p) in zip(date, population):\n",
    "    print(d, ':', p)"
   ]
  },
  {
   "cell_type": "code",
   "execution_count": null,
   "metadata": {},
   "outputs": [],
   "source": [
    "nnpla.lstsq"
   ]
  }
 ],
 "metadata": {
  "kernelspec": {
   "display_name": "base",
   "language": "python",
   "name": "python3"
  },
  "language_info": {
   "codemirror_mode": {
    "name": "ipython",
    "version": 3
   },
   "file_extension": ".py",
   "mimetype": "text/x-python",
   "name": "python",
   "nbconvert_exporter": "python",
   "pygments_lexer": "ipython3",
   "version": "3.10.9"
  },
  "orig_nbformat": 4
 },
 "nbformat": 4,
 "nbformat_minor": 2
}
