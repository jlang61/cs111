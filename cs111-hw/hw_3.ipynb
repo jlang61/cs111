{
 "cells": [
  {
   "cell_type": "code",
   "execution_count": 4,
   "metadata": {},
   "outputs": [
    {
     "name": "stdout",
     "output_type": "stream",
     "text": [
      "[[-2.25   2.5   -1.5  ]\n",
      " [-0.625  0.75  -0.25 ]]\n"
     ]
    }
   ],
   "source": [
    "import numpy as np\n",
    "import numpy.linalg as npla\n",
    "\n",
    "def GetB(A,AB):\n",
    "    \n",
    "    if(npla.det(A)):\n",
    "        A_inv = npla.inv(A)\n",
    "        B = A_inv @ AB\n",
    "        return B\n",
    "    else:\n",
    "        return []\n",
    "\n",
    "A = np.array([[1,-2],[-2,-4]])\n",
    "AB = np.array([[-1,1,-1],[7,-8,4]])\n",
    "print(GetB(A,AB))\n"
   ]
  },
  {
   "cell_type": "code",
   "execution_count": null,
   "metadata": {},
   "outputs": [],
   "source": []
  },
  {
   "cell_type": "code",
   "execution_count": 12,
   "metadata": {},
   "outputs": [
    {
     "name": "stdout",
     "output_type": "stream",
     "text": [
      "R: \n",
      " [[ 1.09544512  0.        ]\n",
      " [-1.82574186  3.41565026]]\n",
      "relative residual norm: 8.8513652430948\n",
      "[0.5+0.8660254j 0.5-0.8660254j]\n",
      "True\n"
     ]
    }
   ],
   "source": [
    "import numpy as np\n",
    "import numpy.linalg as npla\n",
    "A = np.array([[1.2,0.2],[-2,15]])\n",
    "A = np.array([[-5.3,1.1],[1.1,15]])\n",
    "A = np.array([[1,np.sqrt(3)/2],[np.sqrt(3)/2,3]])\n",
    "A = np.array([[1,-1],[1,0]])\n",
    "m,n = A.shape  \n",
    "#if((m == n) and (np.all(A == A.T)) and np.all(npla.eig(A)[0] > 0)):\n",
    "#R = npla.cholesky(A)\n",
    "print(\"R: \\n\", R)\n",
    "print(\"relative residual norm:\", (npla.norm(A - R @ R.T)/(npla.norm(A))))\n",
    "print(npla.eig(A)[0])\n",
    "print(np.all(npla.eig(A)[0] > 0))\n"
   ]
  },
  {
   "cell_type": "code",
   "execution_count": 22,
   "metadata": {},
   "outputs": [
    {
     "name": "stdout",
     "output_type": "stream",
     "text": [
      "R: \n",
      " [[-1.41421356  0.70710678]\n",
      " [ 0.          0.70710678]]\n",
      "q: \n",
      " [[-0.70710678 -0.70710678]\n",
      " [-0.70710678  0.70710678]]\n",
      "relative residual norm: 3.268408087260198e-16\n"
     ]
    }
   ],
   "source": [
    "import numpy as np\n",
    "import numpy.linalg as npla\n",
    "#A = np.array([[1.2,0.2],[-2,15]])\n",
    "#A = np.array([[-5.3,1.1],[1.1,15]])\n",
    "#A = np.array([[1,np.sqrt(3)/2],[np.sqrt(3)/2,3]])\n",
    "A = np.array([[1,-1],[1,0]])\n",
    "m,n = A.shape  \n",
    "#if((m == n) and (np.all(A == A.T)) and np.all(npla.eig(A)[0] > 0)):\n",
    "q,r = npla.qr(A)\n",
    "print(\"R: \\n\", r)\n",
    "print(\"q: \\n\", q)\n",
    "print(\"relative residual norm:\", (npla.norm(A - q @ r)/(npla.norm(A))))\n"
   ]
  },
  {
   "cell_type": "code",
   "execution_count": 42,
   "metadata": {},
   "outputs": [
    {
     "name": "stdout",
     "output_type": "stream",
     "text": [
      "First vector: \n",
      " -85.9821\n",
      "Second vector: \n",
      " -195.89560000000003\n",
      "True\n",
      "True\n",
      "True\n",
      "True\n"
     ]
    }
   ],
   "source": [
    "\n",
    "A = np.array([[0.001,2,5],[2,0.004,9],[5,9,0.0001]])\n",
    "x = np.array([1,-2,3])\n",
    "x_T = x.T\n",
    "print(\"First vector: \\n\", x_T @ A @ x)\n",
    "x = np.array([10,1,-2])\n",
    "x_T = x.T\n",
    "print(\"Second vector: \\n\", x_T @ A @ x)\n",
    "print(np.all(A == A.T))\n",
    "print(npla.det(A) != 0)\n",
    "print(np.all(A > 0))\n",
    "print(not np.all(npla.eig(A)[0]>0))"
   ]
  },
  {
   "cell_type": "code",
   "execution_count": null,
   "metadata": {},
   "outputs": [],
   "source": []
  }
 ],
 "metadata": {
  "kernelspec": {
   "display_name": "base",
   "language": "python",
   "name": "python3"
  },
  "language_info": {
   "codemirror_mode": {
    "name": "ipython",
    "version": 3
   },
   "file_extension": ".py",
   "mimetype": "text/x-python",
   "name": "python",
   "nbconvert_exporter": "python",
   "pygments_lexer": "ipython3",
   "version": "3.10.9"
  },
  "orig_nbformat": 4
 },
 "nbformat": 4,
 "nbformat_minor": 2
}
