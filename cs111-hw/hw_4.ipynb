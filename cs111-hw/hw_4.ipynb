{
 "cells": [
  {
   "cell_type": "code",
   "execution_count": 624,
   "metadata": {},
   "outputs": [],
   "source": [
    "import numpy as np \n",
    "import numpy.linalg as npla\n",
    "import scipy \n",
    "from scipy import sparse\n",
    "import scipy.sparse.linalg as spla\n",
    "import time as time "
   ]
  },
  {
   "cell_type": "code",
   "execution_count": 625,
   "metadata": {},
   "outputs": [],
   "source": [
    "def Jsolve(A, b, tol = 1e-8, max_iters = 1000, callback = None):\n",
    "    \"\"\"Solve a linear system Ax = b for x by the Jacobi iterative method.\n",
    "    Parameters: \n",
    "      A: the matrix.\n",
    "      b: the right-hand side vector.\n",
    "      tol = 1e-8: the relative residual at which to stop iterating.\n",
    "      max_iters = 1000: the maximum number of iterations to do. \n",
    "      callback = None: a user function to call at every iteration. \n",
    "        The callback function has arguments 'x', 'iteration', and 'residual'\n",
    "    Outputs (in order):\n",
    "      x: the computed solution\n",
    "      rel_res: list of relative residual norms at each iteration.\n",
    "        The number of iterations actually done is len(rel_res) - 1\n",
    "    \"\"\"\n",
    "    # Check the input\n",
    "    m, n = A.shape\n",
    "    assert m == n, \"matrix must be square\"\n",
    "    bn, = b.shape\n",
    "    assert bn == n, \"rhs vector must be same size as matrix\"\n",
    "\n",
    "    # Split A into diagonal D plus off-diagonal C\n",
    "    d = A.diagonal()         # diagonal elements of A as a vector\n",
    "    C = A.copy()             # copy of A ...\n",
    "    C.setdiag(np.zeros(n))   # ... without the diagonal\n",
    "    \n",
    "    # Initial guess: x = 0\n",
    "    x = np.zeros(n)\n",
    "\n",
    "    # Vector of relative residuals\n",
    "    # Relative residual is norm(residual)/norm(b)\n",
    "    # Intitial residual is b - Ax for x=0, or b\n",
    "    rel_res = [1.0]\n",
    "        \n",
    "    # Call user function if specified\n",
    "    if callback is not None:\n",
    "        callback(x = x, iteration = 0, residual = 1)\n",
    "\n",
    "    # Iterate\n",
    "    for k in range(1, max_iters+1):\n",
    "        # New x\n",
    "        x = (b - C @ x) / d\n",
    "\n",
    "        # Record relative residual (this can be done instead of error)\n",
    "        # Remember: rel_res = error / some_relative_reference\n",
    "        this_rel_res = npla.norm(b - A @ x) / npla.norm(b)\n",
    "        rel_res.append(this_rel_res)\n",
    "                \n",
    "        # Call user function if specified\n",
    "        if callback is not None:\n",
    "            callback(x = x, iteration = k, residual = this_rel_res)\n",
    "                        \n",
    "        # Stop if within tolerance    \n",
    "        if this_rel_res <= tol:\n",
    "            break\n",
    "            \n",
    "    return (x, rel_res)"
   ]
  },
  {
   "cell_type": "code",
   "execution_count": 626,
   "metadata": {},
   "outputs": [],
   "source": [
    "def Lsolve(L, b):\n",
    "    \"\"\"Forward solve a unit lower triangular system Ly = b for y\n",
    "    Parameters: \n",
    "      L: the matrix, must be square, lower triangular, with ones on the diagonal\n",
    "      b: the right-hand side vector\n",
    "    Output:\n",
    "      y: the solution vector to L @ y == b\n",
    "    \"\"\"\n",
    "    \n",
    "    # Check the input\n",
    "    m, n = L.shape\n",
    "    assert m == n, \"matrix L must be square\"\n",
    "    assert np.all(np.tril(L) == L), \"matrix L must be lower triangular\"\n",
    "    assert np.all(np.diag(L) == 1), \"matrix L must have ones on the diagonal\"\n",
    "    \n",
    "    # Make a copy of b that we will transform into the solution\n",
    "    y = b.astype(np.float64).copy()\n",
    "    \n",
    "    # Forward solve\n",
    "    for col in range(n):\n",
    "        y[col+1:] -= y[col] * L[col+1:, col]\n",
    "        \n",
    "    return y"
   ]
  },
  {
   "cell_type": "code",
   "execution_count": 627,
   "metadata": {},
   "outputs": [],
   "source": [
    "def Usolve(U, y):\n",
    "    \"\"\"Backward solve an upper triangular system Ux = y for x\n",
    "    Parameters: \n",
    "      U: the matrix, must be square, upper triangular, with nonzeros on the diagonal\n",
    "      y: the right-hand side vector\n",
    "    Output:\n",
    "      x: the solution vector to U @ x == y\n",
    "    \"\"\"\n",
    "    m, n = U.shape\n",
    "    assert m == n, \"matrix U must be square\"\n",
    "    assert np.all(np.triu(U) == U), \"matrix U must be upper triangular\"\n",
    "    for i in range(n):\n",
    "        assert U[i][i] != 0\n",
    "    \n",
    "    x = y.astype(np.float64).copy()\n",
    "\n",
    "    for row in range(n):\n",
    "        x[n-row-1] = x[n-row-1]  / U[n-row-1, n-row-1] \n",
    "        x[:n-row-1] -= x[n-row-1] * U[:n-row-1, n-row-1]\n",
    "    return x"
   ]
  },
  {
   "cell_type": "code",
   "execution_count": 628,
   "metadata": {},
   "outputs": [],
   "source": [
    "def LUfactor(A, pivoting = True):\n",
    "    \"\"\"Factor a square matrix with partial pivoting, A[p,:] == L @ U\n",
    "    Parameters: \n",
    "      A: the matrix.\n",
    "      pivoting: whether or not to do partial pivoting\n",
    "    Outputs (in order):\n",
    "      L: the lower triangular factor, same dimensions as A, with ones on the diagonal\n",
    "      U: the upper triangular factor, same dimensions as A\n",
    "      p: the permutation vector that permutes the rows of A by partial pivoting\n",
    "    \"\"\"\n",
    "    \n",
    "    # Check the input\n",
    "    m, n = A.shape\n",
    "    assert m == n, 'input matrix A must be square'\n",
    "    \n",
    "    # Initialize p to be the identity permutation\n",
    "    p = np.array(range(n))\n",
    "    \n",
    "    # Make a copy of the matrix that we will transform into L and U\n",
    "    LU = A.astype(np.float64).copy()\n",
    "    \n",
    "    # Eliminate each column in turn\n",
    "    for piv_col in range(n):\n",
    "     \n",
    "        # Choose the pivot row and swap it into place\n",
    "        if pivoting:\n",
    "            piv_row = piv_col + np.argmax(np.abs(LU[piv_col:, piv_col]))   # Added np.abs() to fix bug\n",
    "            assert LU[piv_row, piv_col] != 0., \"can't find nonzero pivot, matrix is singular\"\n",
    "            # print(\"Before:\")\n",
    "            # print(LU)\n",
    "\n",
    "            LU[[piv_col, piv_row], :]  = LU[[piv_row, piv_col], :]\n",
    "            p[ [piv_col, piv_row] ]      = p[[piv_row, piv_col]]\n",
    "            \n",
    "            # print(\"After: \")\n",
    "            # print(LU)\n",
    "        # Update the rest of the matrix\n",
    "        pivot = LU[piv_col, piv_col]\n",
    "        assert pivot != 0., \"pivot is zero, can't continue\"\n",
    "        \n",
    "        # This is the standard \"core\" of the algorithm (same as in LUfactorNoPiv)\n",
    "        for row in range(piv_col + 1, n):\n",
    "            multiplier = LU[row, piv_col] / pivot\n",
    "            LU[row, piv_col] = multiplier\n",
    "            LU[row, (piv_col+1):] -= multiplier * LU[piv_col, (piv_col+1):]\n",
    "            # print(\"Did add on row: \" + str(row) + \"Column: \" + str(piv_col))\n",
    "            \n",
    "    # Separate L and U in the result\n",
    "    U = np.triu(LU)\n",
    "    L = LU - U + np.eye(n)\n",
    "    \n",
    "    # This will return the L, U, AS WELL AS p (the permutation vector).\n",
    "    return (L, U, p)"
   ]
  },
  {
   "cell_type": "code",
   "execution_count": 629,
   "metadata": {},
   "outputs": [],
   "source": [
    "def make_A_3D(k):\n",
    "    #Revised make_A for a k by k by k grid \n",
    "    triples = [] \n",
    "    #idea of triples stays the same \n",
    "    for a in range(k):\n",
    "        for b in range(k):\n",
    "            for c in range(k):\n",
    "                #row of matrix is the grid point \n",
    "                row = c + b * k + a * (k ** 2)\n",
    "                triples.append((row,row, 6.0))\n",
    "                #connect to the left grid neighbor\n",
    "                if c > 0:\n",
    "                    triples.append((row,row - 1, -1.0))\n",
    "                #right neighbor\n",
    "                if c < k - 1:\n",
    "                    triples.append((row,row + 1, -1.0))\n",
    "                #neighbor aboove\n",
    "                if b > 0:\n",
    "                    triples.append((row,row - k, -1.0))\n",
    "                #neighbor below\n",
    "                if b < k -1:\n",
    "                    triples.append((row,row + k, -1.0))\n",
    "                #neighbor up\n",
    "                if a > 0:\n",
    "                    triples.append((row,row - (k ** 2), -1.0))\n",
    "                #neighbor down \n",
    "                if a < k -1:\n",
    "                    triples.append((row,row + (k **2), -1.0))\n",
    "    ndim = k * k * k\n",
    "    rownum = [t[0] for t in triples]\n",
    "    colnum = [t[1] for t in triples]\n",
    "    values = [t[2] for t in triples]\n",
    "    A = sparse.csr_matrix((values, (rownum, colnum)), shape = (ndim, ndim))            \n",
    "    return A            "
   ]
  },
  {
   "cell_type": "code",
   "execution_count": 630,
   "metadata": {},
   "outputs": [
    {
     "name": "stdout",
     "output_type": "stream",
     "text": [
      "k: 15\n",
      "dimensions: (3375, 3375)\n",
      "nonzeros: 22275\n"
     ]
    }
   ],
   "source": [
    "k = 15\n",
    "A = make_A_3D(k)\n",
    "print(\"k:\", k)\n",
    "print(\"dimensions:\", A.shape)\n",
    "print(\"nonzeros:\", A.size)\n",
    "# #print(’A as sparse matrix:’); print(A)\n",
    "# print(\"A as dense matrix:\"); print(A.todense())\n"
   ]
  },
  {
   "cell_type": "code",
   "execution_count": 631,
   "metadata": {},
   "outputs": [
    {
     "name": "stdout",
     "output_type": "stream",
     "text": [
      "[22. 19. 44. ... 25. 12. 60.]\n"
     ]
    }
   ],
   "source": [
    "#Creating arbitrary b \n",
    "b = np.array(np.round(np.random.rand(k**3)* 100))\n",
    "print(b)"
   ]
  },
  {
   "cell_type": "code",
   "execution_count": 632,
   "metadata": {},
   "outputs": [
    {
     "name": "stdout",
     "output_type": "stream",
     "text": [
      "When k is 15 , the relative residual is 9.974348961426036e-09 and the run time is 0.06411361694335938\n"
     ]
    }
   ],
   "source": [
    "#JSOLVE FROM CLASS \n",
    "\n",
    "pre_time = time.time()\n",
    "x, rel_res = Jsolve(A,b)\n",
    "post_time = time.time()\n",
    "print(\"When k is\", k , \", the relative residual is\", npla.norm(A@x - b)/npla.norm(b), \"and the run time is\", post_time - pre_time)\n",
    "# print(\"Time taken: \", post_time-pre_time)\n",
    "# print(\"Relative residual: \" ,rel_res)\n",
    "# print(\"Relative residual norm: \" , npla.norm(rel_res))"
   ]
  },
  {
   "cell_type": "code",
   "execution_count": 633,
   "metadata": {},
   "outputs": [
    {
     "name": "stdout",
     "output_type": "stream",
     "text": [
      "When k is 15 , the relative residual is 7.849671864335163e-06 and the run time is 0.13931679725646973\n"
     ]
    }
   ],
   "source": [
    "#SCIPY - spla.cg()\n",
    "prev_time = time.time()\n",
    "x, info = spla.cg(A,b)\n",
    "post_time = time.time()\n",
    "print(\"When k is\", k , \", the relative residual is\", npla.norm(A@x - b)/npla.norm(b), \"and the run time is\", post_time - pre_time)\n"
   ]
  },
  {
   "cell_type": "code",
   "execution_count": 634,
   "metadata": {},
   "outputs": [
    {
     "name": "stdout",
     "output_type": "stream",
     "text": [
      "When k is 15 , the relative residual is 1.0451485762556632e-14 and the run time is 0.24664664268493652\n"
     ]
    }
   ],
   "source": [
    "#SCIPY - spla.spsolve()\n",
    "prev_time = time.time()\n",
    "x = spla.spsolve(A,b)\n",
    "post_time = time.time()\n",
    "print(\"When k is\", k , \", the relative residual is\", npla.norm(A@x - b)/npla.norm(b), \"and the run time is\", post_time - pre_time)\n",
    "\n"
   ]
  },
  {
   "cell_type": "code",
   "execution_count": 635,
   "metadata": {},
   "outputs": [
    {
     "name": "stdout",
     "output_type": "stream",
     "text": [
      "When k is 15 , the relative residual is 2.855927552870107e-14 and the run time is 31.04134202003479\n"
     ]
    }
   ],
   "source": [
    "\n",
    "prev_time = time.time()\n",
    "A = np.array(A.todense())\n",
    "L,U,p = LUfactor(A)\n",
    "y = Lsolve(L,b[p])\n",
    "x = Usolve(U,y)\n",
    "post_time = time.time()\n",
    "print(\"When k is\", k , \", the relative residual is\", npla.norm(A@x - b)/npla.norm(b), \"and the run time is\", post_time - pre_time)\n",
    "\n",
    "\n"
   ]
  },
  {
   "cell_type": "code",
   "execution_count": null,
   "metadata": {},
   "outputs": [],
   "source": []
  }
 ],
 "metadata": {
  "kernelspec": {
   "display_name": "base",
   "language": "python",
   "name": "python3"
  },
  "language_info": {
   "codemirror_mode": {
    "name": "ipython",
    "version": 3
   },
   "file_extension": ".py",
   "mimetype": "text/x-python",
   "name": "python",
   "nbconvert_exporter": "python",
   "pygments_lexer": "ipython3",
   "version": "3.10.9"
  },
  "orig_nbformat": 4
 },
 "nbformat": 4,
 "nbformat_minor": 2
}
